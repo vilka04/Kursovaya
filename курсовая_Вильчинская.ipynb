{
  "cells": [
    {
      "cell_type": "markdown",
      "metadata": {
        "id": "nxnJDUj1myHH"
      },
      "source": [
        "Машинное обучение в\n",
        "задачах распознавания\n",
        "текста"
      ]
    },
    {
      "cell_type": "code",
      "execution_count": 1,
      "metadata": {
        "colab": {
          "base_uri": "https://localhost:8080/"
        },
        "id": "ry5jCctw3JJp",
        "outputId": "5f77a934-272f-4a68-9443-272c61ef94f3"
      },
      "outputs": [
        {
          "output_type": "stream",
          "name": "stdout",
          "text": [
            "Downloading ai-vs-human-text, 366594744 bytes compressed\n",
            "[==================================================] 366594744 bytes downloaded\n",
            "Downloaded and uncompressed: ai-vs-human-text\n",
            "Data source import complete.\n"
          ]
        }
      ],
      "source": [
        "import os\n",
        "import sys\n",
        "from tempfile import NamedTemporaryFile\n",
        "from urllib.request import urlopen\n",
        "from urllib.parse import unquote, urlparse\n",
        "from urllib.error import HTTPError\n",
        "from zipfile import ZipFile\n",
        "import tarfile\n",
        "import shutil\n",
        "\n",
        "CHUNK_SIZE = 40960\n",
        "DATA_SOURCE_MAPPING = 'ai-vs-human-text:https%3A%2F%2Fstorage.googleapis.com%2Fkaggle-data-sets%2F4288635%2F7379779%2Fbundle%2Farchive.zip%3FX-Goog-Algorithm%3DGOOG4-RSA-SHA256%26X-Goog-Credential%3Dgcp-kaggle-com%2540kaggle-161607.iam.gserviceaccount.com%252F20240516%252Fauto%252Fstorage%252Fgoog4_request%26X-Goog-Date%3D20240516T091953Z%26X-Goog-Expires%3D259200%26X-Goog-SignedHeaders%3Dhost%26X-Goog-Signature%3D8907be94dfc03b159932e451185230c23f9bb530dd7b899b8e7cccbaea7f4c84c6205749c8703003b67271ba91f366b186921d3c7899556922c9dd5f6bd933137ddc3445524a5ffa6fcc0d2b6f38df8069cd35cfe22a6c808762933106cd33110c33038691a2229246a23327d13ac8a25d6e18a5d935467194ef3e7e9b101d3c5ef24e8c41fc8738bcc53fac086db6e1d96bf8ebcc8ab1c6214e61ecb02d54315fac5ecc366ae415b57d965c6562a656883994f4127c5ab60abbf169a156373359b1ae2e57bac6bc8e80b9cce67fc99e5d39aa93962fc1b152156180b3ad43f31595a8baa0e77606ba8dec174ad21869a15f57fbf7fb964447bda9d8e07bd221'\n",
        "\n",
        "KAGGLE_INPUT_PATH='/kaggle/input'\n",
        "KAGGLE_WORKING_PATH='/kaggle/working'\n",
        "KAGGLE_SYMLINK='kaggle'\n",
        "\n",
        "!umount /kaggle/input/ 2> /dev/null\n",
        "shutil.rmtree('/kaggle/input', ignore_errors=True)\n",
        "os.makedirs(KAGGLE_INPUT_PATH, 0o777, exist_ok=True)\n",
        "os.makedirs(KAGGLE_WORKING_PATH, 0o777, exist_ok=True)\n",
        "\n",
        "try:\n",
        "  os.symlink(KAGGLE_INPUT_PATH, os.path.join(\"..\", 'input'), target_is_directory=True)\n",
        "except FileExistsError:\n",
        "  pass\n",
        "try:\n",
        "  os.symlink(KAGGLE_WORKING_PATH, os.path.join(\"..\", 'working'), target_is_directory=True)\n",
        "except FileExistsError:\n",
        "  pass\n",
        "\n",
        "for data_source_mapping in DATA_SOURCE_MAPPING.split(','):\n",
        "    directory, download_url_encoded = data_source_mapping.split(':')\n",
        "    download_url = unquote(download_url_encoded)\n",
        "    filename = urlparse(download_url).path\n",
        "    destination_path = os.path.join(KAGGLE_INPUT_PATH, directory)\n",
        "    try:\n",
        "        with urlopen(download_url) as fileres, NamedTemporaryFile() as tfile:\n",
        "            total_length = fileres.headers['content-length']\n",
        "            print(f'Downloading {directory}, {total_length} bytes compressed')\n",
        "            dl = 0\n",
        "            data = fileres.read(CHUNK_SIZE)\n",
        "            while len(data) > 0:\n",
        "                dl += len(data)\n",
        "                tfile.write(data)\n",
        "                done = int(50 * dl / int(total_length))\n",
        "                sys.stdout.write(f\"\\r[{'=' * done}{' ' * (50-done)}] {dl} bytes downloaded\")\n",
        "                sys.stdout.flush()\n",
        "                data = fileres.read(CHUNK_SIZE)\n",
        "            if filename.endswith('.zip'):\n",
        "              with ZipFile(tfile) as zfile:\n",
        "                zfile.extractall(destination_path)\n",
        "            else:\n",
        "              with tarfile.open(tfile.name) as tarfile:\n",
        "                tarfile.extractall(destination_path)\n",
        "            print(f'\\nDownloaded and uncompressed: {directory}')\n",
        "    except HTTPError as e:\n",
        "        print(f'Failed to load (likely expired) {download_url} to path {destination_path}')\n",
        "        continue\n",
        "    except OSError as e:\n",
        "        print(f'Failed to load {download_url} to path {destination_path}')\n",
        "        continue\n",
        "\n",
        "print('Data source import complete.')\n"
      ]
    },
    {
      "cell_type": "markdown",
      "metadata": {
        "id": "iXhKW67L3S9g"
      },
      "source": [
        "подгружаем необходимые библиотеки и импортируем данные"
      ]
    },
    {
      "cell_type": "code",
      "execution_count": 2,
      "metadata": {
        "id": "NLDogKsb3JJt"
      },
      "outputs": [],
      "source": [
        "import numpy as np\n",
        "import pandas as pd\n",
        "import os\n",
        "import seaborn as sns"
      ]
    },
    {
      "cell_type": "code",
      "execution_count": 3,
      "metadata": {
        "id": "YwdZyJkG3JJu"
      },
      "outputs": [],
      "source": [
        "df = pd.read_csv('/kaggle/input/ai-vs-human-text/AI_Human.csv')"
      ]
    },
    {
      "cell_type": "code",
      "execution_count": null,
      "metadata": {
        "colab": {
          "base_uri": "https://localhost:8080/"
        },
        "id": "OblNXVLHPai0",
        "outputId": "fd10c160-09b6-4b46-ec72-a075c435ca49"
      },
      "outputs": [
        {
          "data": {
            "text/plain": [
              "(487235, 2)"
            ]
          },
          "execution_count": 9,
          "metadata": {},
          "output_type": "execute_result"
        }
      ],
      "source": [
        "df.shape"
      ]
    },
    {
      "cell_type": "code",
      "execution_count": null,
      "metadata": {
        "colab": {
          "base_uri": "https://localhost:8080/",
          "height": 206
        },
        "id": "880-rGww3JJu",
        "outputId": "3d8f9071-460c-48f0-fa26-2daa42b68802"
      },
      "outputs": [
        {
          "data": {
            "application/vnd.google.colaboratory.intrinsic+json": {
              "type": "dataframe",
              "variable_name": "df"
            },
            "text/html": [
              "\n",
              "  <div id=\"df-76734cbe-f1e3-4de5-ac36-b3cf5251e3db\" class=\"colab-df-container\">\n",
              "    <div>\n",
              "<style scoped>\n",
              "    .dataframe tbody tr th:only-of-type {\n",
              "        vertical-align: middle;\n",
              "    }\n",
              "\n",
              "    .dataframe tbody tr th {\n",
              "        vertical-align: top;\n",
              "    }\n",
              "\n",
              "    .dataframe thead th {\n",
              "        text-align: right;\n",
              "    }\n",
              "</style>\n",
              "<table border=\"1\" class=\"dataframe\">\n",
              "  <thead>\n",
              "    <tr style=\"text-align: right;\">\n",
              "      <th></th>\n",
              "      <th>text</th>\n",
              "      <th>generated</th>\n",
              "    </tr>\n",
              "  </thead>\n",
              "  <tbody>\n",
              "    <tr>\n",
              "      <th>0</th>\n",
              "      <td>Cars. Cars have been around since they became ...</td>\n",
              "      <td>0.0</td>\n",
              "    </tr>\n",
              "    <tr>\n",
              "      <th>1</th>\n",
              "      <td>Transportation is a large necessity in most co...</td>\n",
              "      <td>0.0</td>\n",
              "    </tr>\n",
              "    <tr>\n",
              "      <th>2</th>\n",
              "      <td>\"America's love affair with it's vehicles seem...</td>\n",
              "      <td>0.0</td>\n",
              "    </tr>\n",
              "    <tr>\n",
              "      <th>3</th>\n",
              "      <td>How often do you ride in a car? Do you drive a...</td>\n",
              "      <td>0.0</td>\n",
              "    </tr>\n",
              "    <tr>\n",
              "      <th>4</th>\n",
              "      <td>Cars are a wonderful thing. They are perhaps o...</td>\n",
              "      <td>0.0</td>\n",
              "    </tr>\n",
              "  </tbody>\n",
              "</table>\n",
              "</div>\n",
              "    <div class=\"colab-df-buttons\">\n",
              "\n",
              "  <div class=\"colab-df-container\">\n",
              "    <button class=\"colab-df-convert\" onclick=\"convertToInteractive('df-76734cbe-f1e3-4de5-ac36-b3cf5251e3db')\"\n",
              "            title=\"Convert this dataframe to an interactive table.\"\n",
              "            style=\"display:none;\">\n",
              "\n",
              "  <svg xmlns=\"http://www.w3.org/2000/svg\" height=\"24px\" viewBox=\"0 -960 960 960\">\n",
              "    <path d=\"M120-120v-720h720v720H120Zm60-500h600v-160H180v160Zm220 220h160v-160H400v160Zm0 220h160v-160H400v160ZM180-400h160v-160H180v160Zm440 0h160v-160H620v160ZM180-180h160v-160H180v160Zm440 0h160v-160H620v160Z\"/>\n",
              "  </svg>\n",
              "    </button>\n",
              "\n",
              "  <style>\n",
              "    .colab-df-container {\n",
              "      display:flex;\n",
              "      gap: 12px;\n",
              "    }\n",
              "\n",
              "    .colab-df-convert {\n",
              "      background-color: #E8F0FE;\n",
              "      border: none;\n",
              "      border-radius: 50%;\n",
              "      cursor: pointer;\n",
              "      display: none;\n",
              "      fill: #1967D2;\n",
              "      height: 32px;\n",
              "      padding: 0 0 0 0;\n",
              "      width: 32px;\n",
              "    }\n",
              "\n",
              "    .colab-df-convert:hover {\n",
              "      background-color: #E2EBFA;\n",
              "      box-shadow: 0px 1px 2px rgba(60, 64, 67, 0.3), 0px 1px 3px 1px rgba(60, 64, 67, 0.15);\n",
              "      fill: #174EA6;\n",
              "    }\n",
              "\n",
              "    .colab-df-buttons div {\n",
              "      margin-bottom: 4px;\n",
              "    }\n",
              "\n",
              "    [theme=dark] .colab-df-convert {\n",
              "      background-color: #3B4455;\n",
              "      fill: #D2E3FC;\n",
              "    }\n",
              "\n",
              "    [theme=dark] .colab-df-convert:hover {\n",
              "      background-color: #434B5C;\n",
              "      box-shadow: 0px 1px 3px 1px rgba(0, 0, 0, 0.15);\n",
              "      filter: drop-shadow(0px 1px 2px rgba(0, 0, 0, 0.3));\n",
              "      fill: #FFFFFF;\n",
              "    }\n",
              "  </style>\n",
              "\n",
              "    <script>\n",
              "      const buttonEl =\n",
              "        document.querySelector('#df-76734cbe-f1e3-4de5-ac36-b3cf5251e3db button.colab-df-convert');\n",
              "      buttonEl.style.display =\n",
              "        google.colab.kernel.accessAllowed ? 'block' : 'none';\n",
              "\n",
              "      async function convertToInteractive(key) {\n",
              "        const element = document.querySelector('#df-76734cbe-f1e3-4de5-ac36-b3cf5251e3db');\n",
              "        const dataTable =\n",
              "          await google.colab.kernel.invokeFunction('convertToInteractive',\n",
              "                                                    [key], {});\n",
              "        if (!dataTable) return;\n",
              "\n",
              "        const docLinkHtml = 'Like what you see? Visit the ' +\n",
              "          '<a target=\"_blank\" href=https://colab.research.google.com/notebooks/data_table.ipynb>data table notebook</a>'\n",
              "          + ' to learn more about interactive tables.';\n",
              "        element.innerHTML = '';\n",
              "        dataTable['output_type'] = 'display_data';\n",
              "        await google.colab.output.renderOutput(dataTable, element);\n",
              "        const docLink = document.createElement('div');\n",
              "        docLink.innerHTML = docLinkHtml;\n",
              "        element.appendChild(docLink);\n",
              "      }\n",
              "    </script>\n",
              "  </div>\n",
              "\n",
              "\n",
              "<div id=\"df-d530e758-8d37-4cd5-9fb6-df0ec00cced4\">\n",
              "  <button class=\"colab-df-quickchart\" onclick=\"quickchart('df-d530e758-8d37-4cd5-9fb6-df0ec00cced4')\"\n",
              "            title=\"Suggest charts\"\n",
              "            style=\"display:none;\">\n",
              "\n",
              "<svg xmlns=\"http://www.w3.org/2000/svg\" height=\"24px\"viewBox=\"0 0 24 24\"\n",
              "     width=\"24px\">\n",
              "    <g>\n",
              "        <path d=\"M19 3H5c-1.1 0-2 .9-2 2v14c0 1.1.9 2 2 2h14c1.1 0 2-.9 2-2V5c0-1.1-.9-2-2-2zM9 17H7v-7h2v7zm4 0h-2V7h2v10zm4 0h-2v-4h2v4z\"/>\n",
              "    </g>\n",
              "</svg>\n",
              "  </button>\n",
              "\n",
              "<style>\n",
              "  .colab-df-quickchart {\n",
              "      --bg-color: #E8F0FE;\n",
              "      --fill-color: #1967D2;\n",
              "      --hover-bg-color: #E2EBFA;\n",
              "      --hover-fill-color: #174EA6;\n",
              "      --disabled-fill-color: #AAA;\n",
              "      --disabled-bg-color: #DDD;\n",
              "  }\n",
              "\n",
              "  [theme=dark] .colab-df-quickchart {\n",
              "      --bg-color: #3B4455;\n",
              "      --fill-color: #D2E3FC;\n",
              "      --hover-bg-color: #434B5C;\n",
              "      --hover-fill-color: #FFFFFF;\n",
              "      --disabled-bg-color: #3B4455;\n",
              "      --disabled-fill-color: #666;\n",
              "  }\n",
              "\n",
              "  .colab-df-quickchart {\n",
              "    background-color: var(--bg-color);\n",
              "    border: none;\n",
              "    border-radius: 50%;\n",
              "    cursor: pointer;\n",
              "    display: none;\n",
              "    fill: var(--fill-color);\n",
              "    height: 32px;\n",
              "    padding: 0;\n",
              "    width: 32px;\n",
              "  }\n",
              "\n",
              "  .colab-df-quickchart:hover {\n",
              "    background-color: var(--hover-bg-color);\n",
              "    box-shadow: 0 1px 2px rgba(60, 64, 67, 0.3), 0 1px 3px 1px rgba(60, 64, 67, 0.15);\n",
              "    fill: var(--button-hover-fill-color);\n",
              "  }\n",
              "\n",
              "  .colab-df-quickchart-complete:disabled,\n",
              "  .colab-df-quickchart-complete:disabled:hover {\n",
              "    background-color: var(--disabled-bg-color);\n",
              "    fill: var(--disabled-fill-color);\n",
              "    box-shadow: none;\n",
              "  }\n",
              "\n",
              "  .colab-df-spinner {\n",
              "    border: 2px solid var(--fill-color);\n",
              "    border-color: transparent;\n",
              "    border-bottom-color: var(--fill-color);\n",
              "    animation:\n",
              "      spin 1s steps(1) infinite;\n",
              "  }\n",
              "\n",
              "  @keyframes spin {\n",
              "    0% {\n",
              "      border-color: transparent;\n",
              "      border-bottom-color: var(--fill-color);\n",
              "      border-left-color: var(--fill-color);\n",
              "    }\n",
              "    20% {\n",
              "      border-color: transparent;\n",
              "      border-left-color: var(--fill-color);\n",
              "      border-top-color: var(--fill-color);\n",
              "    }\n",
              "    30% {\n",
              "      border-color: transparent;\n",
              "      border-left-color: var(--fill-color);\n",
              "      border-top-color: var(--fill-color);\n",
              "      border-right-color: var(--fill-color);\n",
              "    }\n",
              "    40% {\n",
              "      border-color: transparent;\n",
              "      border-right-color: var(--fill-color);\n",
              "      border-top-color: var(--fill-color);\n",
              "    }\n",
              "    60% {\n",
              "      border-color: transparent;\n",
              "      border-right-color: var(--fill-color);\n",
              "    }\n",
              "    80% {\n",
              "      border-color: transparent;\n",
              "      border-right-color: var(--fill-color);\n",
              "      border-bottom-color: var(--fill-color);\n",
              "    }\n",
              "    90% {\n",
              "      border-color: transparent;\n",
              "      border-bottom-color: var(--fill-color);\n",
              "    }\n",
              "  }\n",
              "</style>\n",
              "\n",
              "  <script>\n",
              "    async function quickchart(key) {\n",
              "      const quickchartButtonEl =\n",
              "        document.querySelector('#' + key + ' button');\n",
              "      quickchartButtonEl.disabled = true;  // To prevent multiple clicks.\n",
              "      quickchartButtonEl.classList.add('colab-df-spinner');\n",
              "      try {\n",
              "        const charts = await google.colab.kernel.invokeFunction(\n",
              "            'suggestCharts', [key], {});\n",
              "      } catch (error) {\n",
              "        console.error('Error during call to suggestCharts:', error);\n",
              "      }\n",
              "      quickchartButtonEl.classList.remove('colab-df-spinner');\n",
              "      quickchartButtonEl.classList.add('colab-df-quickchart-complete');\n",
              "    }\n",
              "    (() => {\n",
              "      let quickchartButtonEl =\n",
              "        document.querySelector('#df-d530e758-8d37-4cd5-9fb6-df0ec00cced4 button');\n",
              "      quickchartButtonEl.style.display =\n",
              "        google.colab.kernel.accessAllowed ? 'block' : 'none';\n",
              "    })();\n",
              "  </script>\n",
              "</div>\n",
              "    </div>\n",
              "  </div>\n"
            ],
            "text/plain": [
              "                                                text  generated\n",
              "0  Cars. Cars have been around since they became ...        0.0\n",
              "1  Transportation is a large necessity in most co...        0.0\n",
              "2  \"America's love affair with it's vehicles seem...        0.0\n",
              "3  How often do you ride in a car? Do you drive a...        0.0\n",
              "4  Cars are a wonderful thing. They are perhaps o...        0.0"
            ]
          },
          "execution_count": 10,
          "metadata": {},
          "output_type": "execute_result"
        }
      ],
      "source": [
        "df.head()"
      ]
    },
    {
      "cell_type": "code",
      "execution_count": null,
      "metadata": {
        "colab": {
          "base_uri": "https://localhost:8080/",
          "height": 206
        },
        "id": "RP_4PE6M3JJv",
        "outputId": "16363537-f357-4a8e-9328-821be19634d6"
      },
      "outputs": [
        {
          "data": {
            "application/vnd.google.colaboratory.intrinsic+json": {
              "summary": "{\n  \"name\": \"df\",\n  \"rows\": 5,\n  \"fields\": [\n    {\n      \"column\": \"text\",\n      \"properties\": {\n        \"dtype\": \"string\",\n        \"num_unique_values\": 5,\n        \"samples\": [\n          \"The whole purpose of democracy is to create a government that reflects the desires, opinions, ANJ attitudes of the people being governed, but how can this be achieve if the people aren't fairly represented during election time, presidential or otherwise? This is the problem with the Electoral College system; it puts all of decision-making power in the hands of our electors, not the citizens themselves. To begin with, the electors selected by citizens are capable of defying the will of the people they were chosen to represent. Next, in the case of a tie, the opinions of millions of people would be overlooked. Finally, because the Electoral College encourages candidates to focus on obtaining votes instead informing all voters about their intentions, only the influential \\\"swing\\\" states receive enough attention from candidates to make a well-formed decision when voting. When it comes to something as serious as the fate of our country, citizens cannot put their faith in the such a corrupt system as the Electoral College.\\n\\nFirst, the Electoral College system creates a window of opportunity for \\\"faithless\\\" electors to take advantage of the power given to them by society during the voting process. Under the Electoral College, voters Jo not vote directly for whom they want as president, but instead for a slate of electors, who in turn select the president. Although these electors may pledge themselves to a particular candidate, there is no way to determine whether they end up casting their vote according to the will of the people who put them in charge. Such an unpredictable turn of events could be avoided if only the outcomes of presidential elections were determine by popular vote, not through an Electoral College.\\n\\nSecondly, if a tie were to occur, the opinions of countless citizens would be ignored. In this case, the election would be thrown to the House of Representatives, were delegates from each state would vote on the president. Since each state has only one vote to cast, a vote from a state containing 500,000 people would carry the same weight as a vote representing the opinions of 35 million. Given that many voters vote one party for president ANJ another for Congress, the selection made by the House of Representatives can hardly be expected to represent the will of the people.\",\n          \"Richard Non, Jimmy Carter, and Bob Dole and other companies have all agreed to abolish the Electoral College and I to agree Xor many reasons. One ox the major issue is that the voters don't know what really happens to their vote. Another issue to add is that ''the electoral collage is unfair, outdated, and irrational\\\".\\n\\nDo the citizens that go and vote Xor their candidate actually choose Xor the candidate's electors? In the text is states that not only do I vote Xor candidate's electors but also '' help choose the state's electors when you vote Xor the president''. This meaning that my vote counts Xor several things, but was I aware? Maybe not because I simply think I'm voting Xor a candidate running Xor president not the candidate's elector. The Electoral College was meet Xor a compromise between Congress and Citizens not all these extra people.\\n\\n''This year voters can expect another close election in which the popular vote winner could lose again''. Certainly this doesn't make since because how could the winner ox the votes loose? Which is one ox the reasons why the Electoral College is unfair. Also in the beginning ox the article it's said that '' A majority ox 270 electoral votes is required to elect the President''. Meaning that the president already has an advance in the votes. I think that the Electoral College process should be gone Xor its unreality and be replaced to a new way ox election.\\n\\nIn the new way ox electing our president should be in a New steps and also not worrying about the candidate already having an advanced amount ox votes. Instead, ox the votes going place to place they should just be in the state and counted Xor equal no adjustments, then after the election send to Congress or the National Archives as part ox the optical records ox the presidential election.\\n\\nIn conclusion the electoral College should be taken out permanently and be replaced by a new way or process when it comes to the citizens votes and the election ox the candidates.\",\n          \"I firmly believe that governments worldwide should take immediate action to address the pressing issue of climate change, as the consequences of inaction with be catastrophic for the planet and future generations. There are several competing reasons that support my position.\\n\\nFirstly, climate change poses a significant threat to our natural environment. The earth's temperature is rising at an alarming rate, resulting in meeting ice caps, rising sea Levels, and an increase in extreme weather events such as hurricanes, droughts, and heatwaves. These environmental changes have a devastating impact on ecosystems, resulting in the Loss of biodiversity, habitat destruction, and species extinction. For example, the Great Barrier Reef, one of the most biodiverse ecosystems on the planet, has seen a significant decline in recent years due to coral bleaching caused by warming ocean temperatures.\\n\\nSecondly, the negative impacts of climate change extend beyond environmental concerns, affecting human health and economic growth. As the planet warms, the spread of diseases and pests with increase, Leading to more frequent outbreaks of illnesses such as malaria and dengue fever. Additionally, the economic costs associated with climate change, including damage to infrastructure, Loss of productivity, and declining tourism, with be staggering. In fact, a recent report by the Intergovernmental Panel on Climate Change (IPCC) estimated that the global cost of failing to act on climate change could exceed $54 trillion by the end of this century.\\n\\nFinally, taking action to address climate change presents an opportunity for governments to invest in renewable energy sources, creating new jobs, spurring economic growth, and reducing our dependence on fossil fuels. For example, countries Like Germany, Denmark, and China have seen significant economic benefits from their investments in wind, solar, and other clean technologies.\\n\\nIn conclusion, the evidence is clear that immediate action must be taken by governments worldwide to address the urgent threat of climate change. Failure to act now with result in irreparable damage to our planet and future generations' wellbeing. We must work together to reduce greenhouse gas emissions, protect our natural environment, and invest in a sustainable, clean energy future. The time for action is now, and we cannot afford to wait any Longer.\"\n        ],\n        \"semantic_type\": \"\",\n        \"description\": \"\"\n      }\n    },\n    {\n      \"column\": \"generated\",\n      \"properties\": {\n        \"dtype\": \"number\",\n        \"std\": 0.44721359549995804,\n        \"min\": 0.0,\n        \"max\": 1.0,\n        \"num_unique_values\": 2,\n        \"samples\": [\n          1.0,\n          0.0\n        ],\n        \"semantic_type\": \"\",\n        \"description\": \"\"\n      }\n    }\n  ]\n}",
              "type": "dataframe"
            },
            "text/html": [
              "\n",
              "  <div id=\"df-66aa57d6-7d7f-4c82-8e74-e0094c96240b\" class=\"colab-df-container\">\n",
              "    <div>\n",
              "<style scoped>\n",
              "    .dataframe tbody tr th:only-of-type {\n",
              "        vertical-align: middle;\n",
              "    }\n",
              "\n",
              "    .dataframe tbody tr th {\n",
              "        vertical-align: top;\n",
              "    }\n",
              "\n",
              "    .dataframe thead th {\n",
              "        text-align: right;\n",
              "    }\n",
              "</style>\n",
              "<table border=\"1\" class=\"dataframe\">\n",
              "  <thead>\n",
              "    <tr style=\"text-align: right;\">\n",
              "      <th></th>\n",
              "      <th>text</th>\n",
              "      <th>generated</th>\n",
              "    </tr>\n",
              "  </thead>\n",
              "  <tbody>\n",
              "    <tr>\n",
              "      <th>487230</th>\n",
              "      <td>Tie Face on Mars is really just a big misunder...</td>\n",
              "      <td>0.0</td>\n",
              "    </tr>\n",
              "    <tr>\n",
              "      <th>487231</th>\n",
              "      <td>The whole purpose of democracy is to create a ...</td>\n",
              "      <td>0.0</td>\n",
              "    </tr>\n",
              "    <tr>\n",
              "      <th>487232</th>\n",
              "      <td>I firmly believe that governments worldwide sh...</td>\n",
              "      <td>1.0</td>\n",
              "    </tr>\n",
              "    <tr>\n",
              "      <th>487233</th>\n",
              "      <td>I DFN't agree with this decision because a LFT...</td>\n",
              "      <td>0.0</td>\n",
              "    </tr>\n",
              "    <tr>\n",
              "      <th>487234</th>\n",
              "      <td>Richard Non, Jimmy Carter, and Bob Dole and ot...</td>\n",
              "      <td>0.0</td>\n",
              "    </tr>\n",
              "  </tbody>\n",
              "</table>\n",
              "</div>\n",
              "    <div class=\"colab-df-buttons\">\n",
              "\n",
              "  <div class=\"colab-df-container\">\n",
              "    <button class=\"colab-df-convert\" onclick=\"convertToInteractive('df-66aa57d6-7d7f-4c82-8e74-e0094c96240b')\"\n",
              "            title=\"Convert this dataframe to an interactive table.\"\n",
              "            style=\"display:none;\">\n",
              "\n",
              "  <svg xmlns=\"http://www.w3.org/2000/svg\" height=\"24px\" viewBox=\"0 -960 960 960\">\n",
              "    <path d=\"M120-120v-720h720v720H120Zm60-500h600v-160H180v160Zm220 220h160v-160H400v160Zm0 220h160v-160H400v160ZM180-400h160v-160H180v160Zm440 0h160v-160H620v160ZM180-180h160v-160H180v160Zm440 0h160v-160H620v160Z\"/>\n",
              "  </svg>\n",
              "    </button>\n",
              "\n",
              "  <style>\n",
              "    .colab-df-container {\n",
              "      display:flex;\n",
              "      gap: 12px;\n",
              "    }\n",
              "\n",
              "    .colab-df-convert {\n",
              "      background-color: #E8F0FE;\n",
              "      border: none;\n",
              "      border-radius: 50%;\n",
              "      cursor: pointer;\n",
              "      display: none;\n",
              "      fill: #1967D2;\n",
              "      height: 32px;\n",
              "      padding: 0 0 0 0;\n",
              "      width: 32px;\n",
              "    }\n",
              "\n",
              "    .colab-df-convert:hover {\n",
              "      background-color: #E2EBFA;\n",
              "      box-shadow: 0px 1px 2px rgba(60, 64, 67, 0.3), 0px 1px 3px 1px rgba(60, 64, 67, 0.15);\n",
              "      fill: #174EA6;\n",
              "    }\n",
              "\n",
              "    .colab-df-buttons div {\n",
              "      margin-bottom: 4px;\n",
              "    }\n",
              "\n",
              "    [theme=dark] .colab-df-convert {\n",
              "      background-color: #3B4455;\n",
              "      fill: #D2E3FC;\n",
              "    }\n",
              "\n",
              "    [theme=dark] .colab-df-convert:hover {\n",
              "      background-color: #434B5C;\n",
              "      box-shadow: 0px 1px 3px 1px rgba(0, 0, 0, 0.15);\n",
              "      filter: drop-shadow(0px 1px 2px rgba(0, 0, 0, 0.3));\n",
              "      fill: #FFFFFF;\n",
              "    }\n",
              "  </style>\n",
              "\n",
              "    <script>\n",
              "      const buttonEl =\n",
              "        document.querySelector('#df-66aa57d6-7d7f-4c82-8e74-e0094c96240b button.colab-df-convert');\n",
              "      buttonEl.style.display =\n",
              "        google.colab.kernel.accessAllowed ? 'block' : 'none';\n",
              "\n",
              "      async function convertToInteractive(key) {\n",
              "        const element = document.querySelector('#df-66aa57d6-7d7f-4c82-8e74-e0094c96240b');\n",
              "        const dataTable =\n",
              "          await google.colab.kernel.invokeFunction('convertToInteractive',\n",
              "                                                    [key], {});\n",
              "        if (!dataTable) return;\n",
              "\n",
              "        const docLinkHtml = 'Like what you see? Visit the ' +\n",
              "          '<a target=\"_blank\" href=https://colab.research.google.com/notebooks/data_table.ipynb>data table notebook</a>'\n",
              "          + ' to learn more about interactive tables.';\n",
              "        element.innerHTML = '';\n",
              "        dataTable['output_type'] = 'display_data';\n",
              "        await google.colab.output.renderOutput(dataTable, element);\n",
              "        const docLink = document.createElement('div');\n",
              "        docLink.innerHTML = docLinkHtml;\n",
              "        element.appendChild(docLink);\n",
              "      }\n",
              "    </script>\n",
              "  </div>\n",
              "\n",
              "\n",
              "<div id=\"df-03da74b1-36bf-47e3-813a-20738588869c\">\n",
              "  <button class=\"colab-df-quickchart\" onclick=\"quickchart('df-03da74b1-36bf-47e3-813a-20738588869c')\"\n",
              "            title=\"Suggest charts\"\n",
              "            style=\"display:none;\">\n",
              "\n",
              "<svg xmlns=\"http://www.w3.org/2000/svg\" height=\"24px\"viewBox=\"0 0 24 24\"\n",
              "     width=\"24px\">\n",
              "    <g>\n",
              "        <path d=\"M19 3H5c-1.1 0-2 .9-2 2v14c0 1.1.9 2 2 2h14c1.1 0 2-.9 2-2V5c0-1.1-.9-2-2-2zM9 17H7v-7h2v7zm4 0h-2V7h2v10zm4 0h-2v-4h2v4z\"/>\n",
              "    </g>\n",
              "</svg>\n",
              "  </button>\n",
              "\n",
              "<style>\n",
              "  .colab-df-quickchart {\n",
              "      --bg-color: #E8F0FE;\n",
              "      --fill-color: #1967D2;\n",
              "      --hover-bg-color: #E2EBFA;\n",
              "      --hover-fill-color: #174EA6;\n",
              "      --disabled-fill-color: #AAA;\n",
              "      --disabled-bg-color: #DDD;\n",
              "  }\n",
              "\n",
              "  [theme=dark] .colab-df-quickchart {\n",
              "      --bg-color: #3B4455;\n",
              "      --fill-color: #D2E3FC;\n",
              "      --hover-bg-color: #434B5C;\n",
              "      --hover-fill-color: #FFFFFF;\n",
              "      --disabled-bg-color: #3B4455;\n",
              "      --disabled-fill-color: #666;\n",
              "  }\n",
              "\n",
              "  .colab-df-quickchart {\n",
              "    background-color: var(--bg-color);\n",
              "    border: none;\n",
              "    border-radius: 50%;\n",
              "    cursor: pointer;\n",
              "    display: none;\n",
              "    fill: var(--fill-color);\n",
              "    height: 32px;\n",
              "    padding: 0;\n",
              "    width: 32px;\n",
              "  }\n",
              "\n",
              "  .colab-df-quickchart:hover {\n",
              "    background-color: var(--hover-bg-color);\n",
              "    box-shadow: 0 1px 2px rgba(60, 64, 67, 0.3), 0 1px 3px 1px rgba(60, 64, 67, 0.15);\n",
              "    fill: var(--button-hover-fill-color);\n",
              "  }\n",
              "\n",
              "  .colab-df-quickchart-complete:disabled,\n",
              "  .colab-df-quickchart-complete:disabled:hover {\n",
              "    background-color: var(--disabled-bg-color);\n",
              "    fill: var(--disabled-fill-color);\n",
              "    box-shadow: none;\n",
              "  }\n",
              "\n",
              "  .colab-df-spinner {\n",
              "    border: 2px solid var(--fill-color);\n",
              "    border-color: transparent;\n",
              "    border-bottom-color: var(--fill-color);\n",
              "    animation:\n",
              "      spin 1s steps(1) infinite;\n",
              "  }\n",
              "\n",
              "  @keyframes spin {\n",
              "    0% {\n",
              "      border-color: transparent;\n",
              "      border-bottom-color: var(--fill-color);\n",
              "      border-left-color: var(--fill-color);\n",
              "    }\n",
              "    20% {\n",
              "      border-color: transparent;\n",
              "      border-left-color: var(--fill-color);\n",
              "      border-top-color: var(--fill-color);\n",
              "    }\n",
              "    30% {\n",
              "      border-color: transparent;\n",
              "      border-left-color: var(--fill-color);\n",
              "      border-top-color: var(--fill-color);\n",
              "      border-right-color: var(--fill-color);\n",
              "    }\n",
              "    40% {\n",
              "      border-color: transparent;\n",
              "      border-right-color: var(--fill-color);\n",
              "      border-top-color: var(--fill-color);\n",
              "    }\n",
              "    60% {\n",
              "      border-color: transparent;\n",
              "      border-right-color: var(--fill-color);\n",
              "    }\n",
              "    80% {\n",
              "      border-color: transparent;\n",
              "      border-right-color: var(--fill-color);\n",
              "      border-bottom-color: var(--fill-color);\n",
              "    }\n",
              "    90% {\n",
              "      border-color: transparent;\n",
              "      border-bottom-color: var(--fill-color);\n",
              "    }\n",
              "  }\n",
              "</style>\n",
              "\n",
              "  <script>\n",
              "    async function quickchart(key) {\n",
              "      const quickchartButtonEl =\n",
              "        document.querySelector('#' + key + ' button');\n",
              "      quickchartButtonEl.disabled = true;  // To prevent multiple clicks.\n",
              "      quickchartButtonEl.classList.add('colab-df-spinner');\n",
              "      try {\n",
              "        const charts = await google.colab.kernel.invokeFunction(\n",
              "            'suggestCharts', [key], {});\n",
              "      } catch (error) {\n",
              "        console.error('Error during call to suggestCharts:', error);\n",
              "      }\n",
              "      quickchartButtonEl.classList.remove('colab-df-spinner');\n",
              "      quickchartButtonEl.classList.add('colab-df-quickchart-complete');\n",
              "    }\n",
              "    (() => {\n",
              "      let quickchartButtonEl =\n",
              "        document.querySelector('#df-03da74b1-36bf-47e3-813a-20738588869c button');\n",
              "      quickchartButtonEl.style.display =\n",
              "        google.colab.kernel.accessAllowed ? 'block' : 'none';\n",
              "    })();\n",
              "  </script>\n",
              "</div>\n",
              "    </div>\n",
              "  </div>\n"
            ],
            "text/plain": [
              "                                                     text  generated\n",
              "487230  Tie Face on Mars is really just a big misunder...        0.0\n",
              "487231  The whole purpose of democracy is to create a ...        0.0\n",
              "487232  I firmly believe that governments worldwide sh...        1.0\n",
              "487233  I DFN't agree with this decision because a LFT...        0.0\n",
              "487234  Richard Non, Jimmy Carter, and Bob Dole and ot...        0.0"
            ]
          },
          "execution_count": 11,
          "metadata": {},
          "output_type": "execute_result"
        }
      ],
      "source": [
        "df.tail()"
      ]
    },
    {
      "cell_type": "markdown",
      "metadata": {
        "id": "We0dOC-m3JJw"
      },
      "source": [
        "Выведем основную инофрмацию о датасете"
      ]
    },
    {
      "cell_type": "code",
      "execution_count": null,
      "metadata": {
        "colab": {
          "base_uri": "https://localhost:8080/"
        },
        "id": "UGGUkSbo3JJy",
        "outputId": "be400d70-fb11-45ea-ca3a-e2e4ed8e4e93"
      },
      "outputs": [
        {
          "name": "stdout",
          "output_type": "stream",
          "text": [
            "<class 'pandas.core.frame.DataFrame'>\n",
            "RangeIndex: 487235 entries, 0 to 487234\n",
            "Data columns (total 2 columns):\n",
            " #   Column     Non-Null Count   Dtype  \n",
            "---  ------     --------------   -----  \n",
            " 0   text       487235 non-null  object \n",
            " 1   generated  487235 non-null  float64\n",
            "dtypes: float64(1), object(1)\n",
            "memory usage: 7.4+ MB\n"
          ]
        }
      ],
      "source": [
        "df.info()"
      ]
    },
    {
      "cell_type": "code",
      "execution_count": null,
      "metadata": {
        "colab": {
          "base_uri": "https://localhost:8080/",
          "height": 423
        },
        "id": "IP5PDDrtLV8g",
        "outputId": "f88c39ae-bc9f-4812-b224-af281bccd3f9"
      },
      "outputs": [
        {
          "data": {
            "application/vnd.google.colaboratory.intrinsic+json": {
              "type": "dataframe"
            },
            "text/html": [
              "\n",
              "  <div id=\"df-aa5d5eeb-e1eb-4549-adcf-06d1682afb64\" class=\"colab-df-container\">\n",
              "    <div>\n",
              "<style scoped>\n",
              "    .dataframe tbody tr th:only-of-type {\n",
              "        vertical-align: middle;\n",
              "    }\n",
              "\n",
              "    .dataframe tbody tr th {\n",
              "        vertical-align: top;\n",
              "    }\n",
              "\n",
              "    .dataframe thead th {\n",
              "        text-align: right;\n",
              "    }\n",
              "</style>\n",
              "<table border=\"1\" class=\"dataframe\">\n",
              "  <thead>\n",
              "    <tr style=\"text-align: right;\">\n",
              "      <th></th>\n",
              "      <th>text</th>\n",
              "      <th>generated</th>\n",
              "    </tr>\n",
              "  </thead>\n",
              "  <tbody>\n",
              "    <tr>\n",
              "      <th>0</th>\n",
              "      <td>False</td>\n",
              "      <td>False</td>\n",
              "    </tr>\n",
              "    <tr>\n",
              "      <th>1</th>\n",
              "      <td>False</td>\n",
              "      <td>False</td>\n",
              "    </tr>\n",
              "    <tr>\n",
              "      <th>2</th>\n",
              "      <td>False</td>\n",
              "      <td>False</td>\n",
              "    </tr>\n",
              "    <tr>\n",
              "      <th>3</th>\n",
              "      <td>False</td>\n",
              "      <td>False</td>\n",
              "    </tr>\n",
              "    <tr>\n",
              "      <th>4</th>\n",
              "      <td>False</td>\n",
              "      <td>False</td>\n",
              "    </tr>\n",
              "    <tr>\n",
              "      <th>...</th>\n",
              "      <td>...</td>\n",
              "      <td>...</td>\n",
              "    </tr>\n",
              "    <tr>\n",
              "      <th>487230</th>\n",
              "      <td>False</td>\n",
              "      <td>False</td>\n",
              "    </tr>\n",
              "    <tr>\n",
              "      <th>487231</th>\n",
              "      <td>False</td>\n",
              "      <td>False</td>\n",
              "    </tr>\n",
              "    <tr>\n",
              "      <th>487232</th>\n",
              "      <td>False</td>\n",
              "      <td>False</td>\n",
              "    </tr>\n",
              "    <tr>\n",
              "      <th>487233</th>\n",
              "      <td>False</td>\n",
              "      <td>False</td>\n",
              "    </tr>\n",
              "    <tr>\n",
              "      <th>487234</th>\n",
              "      <td>False</td>\n",
              "      <td>False</td>\n",
              "    </tr>\n",
              "  </tbody>\n",
              "</table>\n",
              "<p>487235 rows × 2 columns</p>\n",
              "</div>\n",
              "    <div class=\"colab-df-buttons\">\n",
              "\n",
              "  <div class=\"colab-df-container\">\n",
              "    <button class=\"colab-df-convert\" onclick=\"convertToInteractive('df-aa5d5eeb-e1eb-4549-adcf-06d1682afb64')\"\n",
              "            title=\"Convert this dataframe to an interactive table.\"\n",
              "            style=\"display:none;\">\n",
              "\n",
              "  <svg xmlns=\"http://www.w3.org/2000/svg\" height=\"24px\" viewBox=\"0 -960 960 960\">\n",
              "    <path d=\"M120-120v-720h720v720H120Zm60-500h600v-160H180v160Zm220 220h160v-160H400v160Zm0 220h160v-160H400v160ZM180-400h160v-160H180v160Zm440 0h160v-160H620v160ZM180-180h160v-160H180v160Zm440 0h160v-160H620v160Z\"/>\n",
              "  </svg>\n",
              "    </button>\n",
              "\n",
              "  <style>\n",
              "    .colab-df-container {\n",
              "      display:flex;\n",
              "      gap: 12px;\n",
              "    }\n",
              "\n",
              "    .colab-df-convert {\n",
              "      background-color: #E8F0FE;\n",
              "      border: none;\n",
              "      border-radius: 50%;\n",
              "      cursor: pointer;\n",
              "      display: none;\n",
              "      fill: #1967D2;\n",
              "      height: 32px;\n",
              "      padding: 0 0 0 0;\n",
              "      width: 32px;\n",
              "    }\n",
              "\n",
              "    .colab-df-convert:hover {\n",
              "      background-color: #E2EBFA;\n",
              "      box-shadow: 0px 1px 2px rgba(60, 64, 67, 0.3), 0px 1px 3px 1px rgba(60, 64, 67, 0.15);\n",
              "      fill: #174EA6;\n",
              "    }\n",
              "\n",
              "    .colab-df-buttons div {\n",
              "      margin-bottom: 4px;\n",
              "    }\n",
              "\n",
              "    [theme=dark] .colab-df-convert {\n",
              "      background-color: #3B4455;\n",
              "      fill: #D2E3FC;\n",
              "    }\n",
              "\n",
              "    [theme=dark] .colab-df-convert:hover {\n",
              "      background-color: #434B5C;\n",
              "      box-shadow: 0px 1px 3px 1px rgba(0, 0, 0, 0.15);\n",
              "      filter: drop-shadow(0px 1px 2px rgba(0, 0, 0, 0.3));\n",
              "      fill: #FFFFFF;\n",
              "    }\n",
              "  </style>\n",
              "\n",
              "    <script>\n",
              "      const buttonEl =\n",
              "        document.querySelector('#df-aa5d5eeb-e1eb-4549-adcf-06d1682afb64 button.colab-df-convert');\n",
              "      buttonEl.style.display =\n",
              "        google.colab.kernel.accessAllowed ? 'block' : 'none';\n",
              "\n",
              "      async function convertToInteractive(key) {\n",
              "        const element = document.querySelector('#df-aa5d5eeb-e1eb-4549-adcf-06d1682afb64');\n",
              "        const dataTable =\n",
              "          await google.colab.kernel.invokeFunction('convertToInteractive',\n",
              "                                                    [key], {});\n",
              "        if (!dataTable) return;\n",
              "\n",
              "        const docLinkHtml = 'Like what you see? Visit the ' +\n",
              "          '<a target=\"_blank\" href=https://colab.research.google.com/notebooks/data_table.ipynb>data table notebook</a>'\n",
              "          + ' to learn more about interactive tables.';\n",
              "        element.innerHTML = '';\n",
              "        dataTable['output_type'] = 'display_data';\n",
              "        await google.colab.output.renderOutput(dataTable, element);\n",
              "        const docLink = document.createElement('div');\n",
              "        docLink.innerHTML = docLinkHtml;\n",
              "        element.appendChild(docLink);\n",
              "      }\n",
              "    </script>\n",
              "  </div>\n",
              "\n",
              "\n",
              "<div id=\"df-652e8dec-ece6-4098-b3c2-35c80a8f9af5\">\n",
              "  <button class=\"colab-df-quickchart\" onclick=\"quickchart('df-652e8dec-ece6-4098-b3c2-35c80a8f9af5')\"\n",
              "            title=\"Suggest charts\"\n",
              "            style=\"display:none;\">\n",
              "\n",
              "<svg xmlns=\"http://www.w3.org/2000/svg\" height=\"24px\"viewBox=\"0 0 24 24\"\n",
              "     width=\"24px\">\n",
              "    <g>\n",
              "        <path d=\"M19 3H5c-1.1 0-2 .9-2 2v14c0 1.1.9 2 2 2h14c1.1 0 2-.9 2-2V5c0-1.1-.9-2-2-2zM9 17H7v-7h2v7zm4 0h-2V7h2v10zm4 0h-2v-4h2v4z\"/>\n",
              "    </g>\n",
              "</svg>\n",
              "  </button>\n",
              "\n",
              "<style>\n",
              "  .colab-df-quickchart {\n",
              "      --bg-color: #E8F0FE;\n",
              "      --fill-color: #1967D2;\n",
              "      --hover-bg-color: #E2EBFA;\n",
              "      --hover-fill-color: #174EA6;\n",
              "      --disabled-fill-color: #AAA;\n",
              "      --disabled-bg-color: #DDD;\n",
              "  }\n",
              "\n",
              "  [theme=dark] .colab-df-quickchart {\n",
              "      --bg-color: #3B4455;\n",
              "      --fill-color: #D2E3FC;\n",
              "      --hover-bg-color: #434B5C;\n",
              "      --hover-fill-color: #FFFFFF;\n",
              "      --disabled-bg-color: #3B4455;\n",
              "      --disabled-fill-color: #666;\n",
              "  }\n",
              "\n",
              "  .colab-df-quickchart {\n",
              "    background-color: var(--bg-color);\n",
              "    border: none;\n",
              "    border-radius: 50%;\n",
              "    cursor: pointer;\n",
              "    display: none;\n",
              "    fill: var(--fill-color);\n",
              "    height: 32px;\n",
              "    padding: 0;\n",
              "    width: 32px;\n",
              "  }\n",
              "\n",
              "  .colab-df-quickchart:hover {\n",
              "    background-color: var(--hover-bg-color);\n",
              "    box-shadow: 0 1px 2px rgba(60, 64, 67, 0.3), 0 1px 3px 1px rgba(60, 64, 67, 0.15);\n",
              "    fill: var(--button-hover-fill-color);\n",
              "  }\n",
              "\n",
              "  .colab-df-quickchart-complete:disabled,\n",
              "  .colab-df-quickchart-complete:disabled:hover {\n",
              "    background-color: var(--disabled-bg-color);\n",
              "    fill: var(--disabled-fill-color);\n",
              "    box-shadow: none;\n",
              "  }\n",
              "\n",
              "  .colab-df-spinner {\n",
              "    border: 2px solid var(--fill-color);\n",
              "    border-color: transparent;\n",
              "    border-bottom-color: var(--fill-color);\n",
              "    animation:\n",
              "      spin 1s steps(1) infinite;\n",
              "  }\n",
              "\n",
              "  @keyframes spin {\n",
              "    0% {\n",
              "      border-color: transparent;\n",
              "      border-bottom-color: var(--fill-color);\n",
              "      border-left-color: var(--fill-color);\n",
              "    }\n",
              "    20% {\n",
              "      border-color: transparent;\n",
              "      border-left-color: var(--fill-color);\n",
              "      border-top-color: var(--fill-color);\n",
              "    }\n",
              "    30% {\n",
              "      border-color: transparent;\n",
              "      border-left-color: var(--fill-color);\n",
              "      border-top-color: var(--fill-color);\n",
              "      border-right-color: var(--fill-color);\n",
              "    }\n",
              "    40% {\n",
              "      border-color: transparent;\n",
              "      border-right-color: var(--fill-color);\n",
              "      border-top-color: var(--fill-color);\n",
              "    }\n",
              "    60% {\n",
              "      border-color: transparent;\n",
              "      border-right-color: var(--fill-color);\n",
              "    }\n",
              "    80% {\n",
              "      border-color: transparent;\n",
              "      border-right-color: var(--fill-color);\n",
              "      border-bottom-color: var(--fill-color);\n",
              "    }\n",
              "    90% {\n",
              "      border-color: transparent;\n",
              "      border-bottom-color: var(--fill-color);\n",
              "    }\n",
              "  }\n",
              "</style>\n",
              "\n",
              "  <script>\n",
              "    async function quickchart(key) {\n",
              "      const quickchartButtonEl =\n",
              "        document.querySelector('#' + key + ' button');\n",
              "      quickchartButtonEl.disabled = true;  // To prevent multiple clicks.\n",
              "      quickchartButtonEl.classList.add('colab-df-spinner');\n",
              "      try {\n",
              "        const charts = await google.colab.kernel.invokeFunction(\n",
              "            'suggestCharts', [key], {});\n",
              "      } catch (error) {\n",
              "        console.error('Error during call to suggestCharts:', error);\n",
              "      }\n",
              "      quickchartButtonEl.classList.remove('colab-df-spinner');\n",
              "      quickchartButtonEl.classList.add('colab-df-quickchart-complete');\n",
              "    }\n",
              "    (() => {\n",
              "      let quickchartButtonEl =\n",
              "        document.querySelector('#df-652e8dec-ece6-4098-b3c2-35c80a8f9af5 button');\n",
              "      quickchartButtonEl.style.display =\n",
              "        google.colab.kernel.accessAllowed ? 'block' : 'none';\n",
              "    })();\n",
              "  </script>\n",
              "</div>\n",
              "    </div>\n",
              "  </div>\n"
            ],
            "text/plain": [
              "         text  generated\n",
              "0       False      False\n",
              "1       False      False\n",
              "2       False      False\n",
              "3       False      False\n",
              "4       False      False\n",
              "...       ...        ...\n",
              "487230  False      False\n",
              "487231  False      False\n",
              "487232  False      False\n",
              "487233  False      False\n",
              "487234  False      False\n",
              "\n",
              "[487235 rows x 2 columns]"
            ]
          },
          "execution_count": 8,
          "metadata": {},
          "output_type": "execute_result"
        }
      ],
      "source": [
        "df.isnull()"
      ]
    },
    {
      "cell_type": "code",
      "execution_count": null,
      "metadata": {
        "colab": {
          "base_uri": "https://localhost:8080/",
          "height": 300
        },
        "id": "GMvDopZP3JJz",
        "outputId": "d05197ac-2515-4dce-a41d-6e86dc9e41fa"
      },
      "outputs": [
        {
          "data": {
            "application/vnd.google.colaboratory.intrinsic+json": {
              "summary": "{\n  \"name\": \"df\",\n  \"rows\": 8,\n  \"fields\": [\n    {\n      \"column\": \"generated\",\n      \"properties\": {\n        \"dtype\": \"number\",\n        \"std\": 172263.44202536717,\n        \"min\": 0.0,\n        \"max\": 487235.0,\n        \"num_unique_values\": 5,\n        \"samples\": [\n          0.37238293636540887,\n          1.0,\n          0.4834401356363707\n        ],\n        \"semantic_type\": \"\",\n        \"description\": \"\"\n      }\n    }\n  ]\n}",
              "type": "dataframe"
            },
            "text/html": [
              "\n",
              "  <div id=\"df-662e5e13-c6cd-4609-9cb1-df3907939b7e\" class=\"colab-df-container\">\n",
              "    <div>\n",
              "<style scoped>\n",
              "    .dataframe tbody tr th:only-of-type {\n",
              "        vertical-align: middle;\n",
              "    }\n",
              "\n",
              "    .dataframe tbody tr th {\n",
              "        vertical-align: top;\n",
              "    }\n",
              "\n",
              "    .dataframe thead th {\n",
              "        text-align: right;\n",
              "    }\n",
              "</style>\n",
              "<table border=\"1\" class=\"dataframe\">\n",
              "  <thead>\n",
              "    <tr style=\"text-align: right;\">\n",
              "      <th></th>\n",
              "      <th>generated</th>\n",
              "    </tr>\n",
              "  </thead>\n",
              "  <tbody>\n",
              "    <tr>\n",
              "      <th>count</th>\n",
              "      <td>487235.000000</td>\n",
              "    </tr>\n",
              "    <tr>\n",
              "      <th>mean</th>\n",
              "      <td>0.372383</td>\n",
              "    </tr>\n",
              "    <tr>\n",
              "      <th>std</th>\n",
              "      <td>0.483440</td>\n",
              "    </tr>\n",
              "    <tr>\n",
              "      <th>min</th>\n",
              "      <td>0.000000</td>\n",
              "    </tr>\n",
              "    <tr>\n",
              "      <th>25%</th>\n",
              "      <td>0.000000</td>\n",
              "    </tr>\n",
              "    <tr>\n",
              "      <th>50%</th>\n",
              "      <td>0.000000</td>\n",
              "    </tr>\n",
              "    <tr>\n",
              "      <th>75%</th>\n",
              "      <td>1.000000</td>\n",
              "    </tr>\n",
              "    <tr>\n",
              "      <th>max</th>\n",
              "      <td>1.000000</td>\n",
              "    </tr>\n",
              "  </tbody>\n",
              "</table>\n",
              "</div>\n",
              "    <div class=\"colab-df-buttons\">\n",
              "\n",
              "  <div class=\"colab-df-container\">\n",
              "    <button class=\"colab-df-convert\" onclick=\"convertToInteractive('df-662e5e13-c6cd-4609-9cb1-df3907939b7e')\"\n",
              "            title=\"Convert this dataframe to an interactive table.\"\n",
              "            style=\"display:none;\">\n",
              "\n",
              "  <svg xmlns=\"http://www.w3.org/2000/svg\" height=\"24px\" viewBox=\"0 -960 960 960\">\n",
              "    <path d=\"M120-120v-720h720v720H120Zm60-500h600v-160H180v160Zm220 220h160v-160H400v160Zm0 220h160v-160H400v160ZM180-400h160v-160H180v160Zm440 0h160v-160H620v160ZM180-180h160v-160H180v160Zm440 0h160v-160H620v160Z\"/>\n",
              "  </svg>\n",
              "    </button>\n",
              "\n",
              "  <style>\n",
              "    .colab-df-container {\n",
              "      display:flex;\n",
              "      gap: 12px;\n",
              "    }\n",
              "\n",
              "    .colab-df-convert {\n",
              "      background-color: #E8F0FE;\n",
              "      border: none;\n",
              "      border-radius: 50%;\n",
              "      cursor: pointer;\n",
              "      display: none;\n",
              "      fill: #1967D2;\n",
              "      height: 32px;\n",
              "      padding: 0 0 0 0;\n",
              "      width: 32px;\n",
              "    }\n",
              "\n",
              "    .colab-df-convert:hover {\n",
              "      background-color: #E2EBFA;\n",
              "      box-shadow: 0px 1px 2px rgba(60, 64, 67, 0.3), 0px 1px 3px 1px rgba(60, 64, 67, 0.15);\n",
              "      fill: #174EA6;\n",
              "    }\n",
              "\n",
              "    .colab-df-buttons div {\n",
              "      margin-bottom: 4px;\n",
              "    }\n",
              "\n",
              "    [theme=dark] .colab-df-convert {\n",
              "      background-color: #3B4455;\n",
              "      fill: #D2E3FC;\n",
              "    }\n",
              "\n",
              "    [theme=dark] .colab-df-convert:hover {\n",
              "      background-color: #434B5C;\n",
              "      box-shadow: 0px 1px 3px 1px rgba(0, 0, 0, 0.15);\n",
              "      filter: drop-shadow(0px 1px 2px rgba(0, 0, 0, 0.3));\n",
              "      fill: #FFFFFF;\n",
              "    }\n",
              "  </style>\n",
              "\n",
              "    <script>\n",
              "      const buttonEl =\n",
              "        document.querySelector('#df-662e5e13-c6cd-4609-9cb1-df3907939b7e button.colab-df-convert');\n",
              "      buttonEl.style.display =\n",
              "        google.colab.kernel.accessAllowed ? 'block' : 'none';\n",
              "\n",
              "      async function convertToInteractive(key) {\n",
              "        const element = document.querySelector('#df-662e5e13-c6cd-4609-9cb1-df3907939b7e');\n",
              "        const dataTable =\n",
              "          await google.colab.kernel.invokeFunction('convertToInteractive',\n",
              "                                                    [key], {});\n",
              "        if (!dataTable) return;\n",
              "\n",
              "        const docLinkHtml = 'Like what you see? Visit the ' +\n",
              "          '<a target=\"_blank\" href=https://colab.research.google.com/notebooks/data_table.ipynb>data table notebook</a>'\n",
              "          + ' to learn more about interactive tables.';\n",
              "        element.innerHTML = '';\n",
              "        dataTable['output_type'] = 'display_data';\n",
              "        await google.colab.output.renderOutput(dataTable, element);\n",
              "        const docLink = document.createElement('div');\n",
              "        docLink.innerHTML = docLinkHtml;\n",
              "        element.appendChild(docLink);\n",
              "      }\n",
              "    </script>\n",
              "  </div>\n",
              "\n",
              "\n",
              "<div id=\"df-a28e9a8a-fa5a-417d-b3ba-3ae3b48831d4\">\n",
              "  <button class=\"colab-df-quickchart\" onclick=\"quickchart('df-a28e9a8a-fa5a-417d-b3ba-3ae3b48831d4')\"\n",
              "            title=\"Suggest charts\"\n",
              "            style=\"display:none;\">\n",
              "\n",
              "<svg xmlns=\"http://www.w3.org/2000/svg\" height=\"24px\"viewBox=\"0 0 24 24\"\n",
              "     width=\"24px\">\n",
              "    <g>\n",
              "        <path d=\"M19 3H5c-1.1 0-2 .9-2 2v14c0 1.1.9 2 2 2h14c1.1 0 2-.9 2-2V5c0-1.1-.9-2-2-2zM9 17H7v-7h2v7zm4 0h-2V7h2v10zm4 0h-2v-4h2v4z\"/>\n",
              "    </g>\n",
              "</svg>\n",
              "  </button>\n",
              "\n",
              "<style>\n",
              "  .colab-df-quickchart {\n",
              "      --bg-color: #E8F0FE;\n",
              "      --fill-color: #1967D2;\n",
              "      --hover-bg-color: #E2EBFA;\n",
              "      --hover-fill-color: #174EA6;\n",
              "      --disabled-fill-color: #AAA;\n",
              "      --disabled-bg-color: #DDD;\n",
              "  }\n",
              "\n",
              "  [theme=dark] .colab-df-quickchart {\n",
              "      --bg-color: #3B4455;\n",
              "      --fill-color: #D2E3FC;\n",
              "      --hover-bg-color: #434B5C;\n",
              "      --hover-fill-color: #FFFFFF;\n",
              "      --disabled-bg-color: #3B4455;\n",
              "      --disabled-fill-color: #666;\n",
              "  }\n",
              "\n",
              "  .colab-df-quickchart {\n",
              "    background-color: var(--bg-color);\n",
              "    border: none;\n",
              "    border-radius: 50%;\n",
              "    cursor: pointer;\n",
              "    display: none;\n",
              "    fill: var(--fill-color);\n",
              "    height: 32px;\n",
              "    padding: 0;\n",
              "    width: 32px;\n",
              "  }\n",
              "\n",
              "  .colab-df-quickchart:hover {\n",
              "    background-color: var(--hover-bg-color);\n",
              "    box-shadow: 0 1px 2px rgba(60, 64, 67, 0.3), 0 1px 3px 1px rgba(60, 64, 67, 0.15);\n",
              "    fill: var(--button-hover-fill-color);\n",
              "  }\n",
              "\n",
              "  .colab-df-quickchart-complete:disabled,\n",
              "  .colab-df-quickchart-complete:disabled:hover {\n",
              "    background-color: var(--disabled-bg-color);\n",
              "    fill: var(--disabled-fill-color);\n",
              "    box-shadow: none;\n",
              "  }\n",
              "\n",
              "  .colab-df-spinner {\n",
              "    border: 2px solid var(--fill-color);\n",
              "    border-color: transparent;\n",
              "    border-bottom-color: var(--fill-color);\n",
              "    animation:\n",
              "      spin 1s steps(1) infinite;\n",
              "  }\n",
              "\n",
              "  @keyframes spin {\n",
              "    0% {\n",
              "      border-color: transparent;\n",
              "      border-bottom-color: var(--fill-color);\n",
              "      border-left-color: var(--fill-color);\n",
              "    }\n",
              "    20% {\n",
              "      border-color: transparent;\n",
              "      border-left-color: var(--fill-color);\n",
              "      border-top-color: var(--fill-color);\n",
              "    }\n",
              "    30% {\n",
              "      border-color: transparent;\n",
              "      border-left-color: var(--fill-color);\n",
              "      border-top-color: var(--fill-color);\n",
              "      border-right-color: var(--fill-color);\n",
              "    }\n",
              "    40% {\n",
              "      border-color: transparent;\n",
              "      border-right-color: var(--fill-color);\n",
              "      border-top-color: var(--fill-color);\n",
              "    }\n",
              "    60% {\n",
              "      border-color: transparent;\n",
              "      border-right-color: var(--fill-color);\n",
              "    }\n",
              "    80% {\n",
              "      border-color: transparent;\n",
              "      border-right-color: var(--fill-color);\n",
              "      border-bottom-color: var(--fill-color);\n",
              "    }\n",
              "    90% {\n",
              "      border-color: transparent;\n",
              "      border-bottom-color: var(--fill-color);\n",
              "    }\n",
              "  }\n",
              "</style>\n",
              "\n",
              "  <script>\n",
              "    async function quickchart(key) {\n",
              "      const quickchartButtonEl =\n",
              "        document.querySelector('#' + key + ' button');\n",
              "      quickchartButtonEl.disabled = true;  // To prevent multiple clicks.\n",
              "      quickchartButtonEl.classList.add('colab-df-spinner');\n",
              "      try {\n",
              "        const charts = await google.colab.kernel.invokeFunction(\n",
              "            'suggestCharts', [key], {});\n",
              "      } catch (error) {\n",
              "        console.error('Error during call to suggestCharts:', error);\n",
              "      }\n",
              "      quickchartButtonEl.classList.remove('colab-df-spinner');\n",
              "      quickchartButtonEl.classList.add('colab-df-quickchart-complete');\n",
              "    }\n",
              "    (() => {\n",
              "      let quickchartButtonEl =\n",
              "        document.querySelector('#df-a28e9a8a-fa5a-417d-b3ba-3ae3b48831d4 button');\n",
              "      quickchartButtonEl.style.display =\n",
              "        google.colab.kernel.accessAllowed ? 'block' : 'none';\n",
              "    })();\n",
              "  </script>\n",
              "</div>\n",
              "    </div>\n",
              "  </div>\n"
            ],
            "text/plain": [
              "           generated\n",
              "count  487235.000000\n",
              "mean        0.372383\n",
              "std         0.483440\n",
              "min         0.000000\n",
              "25%         0.000000\n",
              "50%         0.000000\n",
              "75%         1.000000\n",
              "max         1.000000"
            ]
          },
          "execution_count": 9,
          "metadata": {},
          "output_type": "execute_result"
        }
      ],
      "source": [
        "df.describe()"
      ]
    },
    {
      "cell_type": "code",
      "execution_count": null,
      "metadata": {
        "colab": {
          "base_uri": "https://localhost:8080/"
        },
        "id": "BCA1Ol2nmhDJ",
        "outputId": "1b9b7947-438a-44e5-c643-b90a4d053e5e"
      },
      "outputs": [
        {
          "data": {
            "text/plain": [
              "0"
            ]
          },
          "execution_count": 12,
          "metadata": {},
          "output_type": "execute_result"
        }
      ],
      "source": [
        "df.duplicated().sum()"
      ]
    },
    {
      "cell_type": "markdown",
      "metadata": {
        "id": "slQq3Aci5rdH"
      },
      "source": [
        "Мой датасет содержит 487235 стрток и 2 столбца. В первом столбце находится текст, а во втором классификатор, где 0 - это текст написанный человеком, а 1 - нейросетью. кроме того отсутствуют дубликаты строк"
      ]
    },
    {
      "cell_type": "markdown",
      "metadata": {
        "id": "qAgFY_HU3JJ0"
      },
      "source": [
        "Построим график распределения целевой переменной классификации"
      ]
    },
    {
      "cell_type": "code",
      "execution_count": null,
      "metadata": {
        "colab": {
          "base_uri": "https://localhost:8080/",
          "height": 466
        },
        "id": "3JHf3zl93JJ2",
        "outputId": "f5822a45-d39a-4421-ace0-ee6444c21f80"
      },
      "outputs": [
        {
          "data": {
            "text/plain": [
              "<Axes: xlabel='generated', ylabel='count'>"
            ]
          },
          "execution_count": 13,
          "metadata": {},
          "output_type": "execute_result"
        },
        {
          "data": {
            "image/png": "[encoded data removed]",
            "text/plain": [
              "<Figure size 640x480 with 1 Axes>"
            ]
          },
          "metadata": {},
          "output_type": "display_data"
        }
      ],
      "source": [
        "sns.countplot(data=df,x='generated')"
      ]
    },
    {
      "cell_type": "markdown",
      "metadata": {
        "id": "GDosyKps3JJ3"
      },
      "source": [
        "По графику видно, что в датасете превалируют наблюдения, не сгенерированные нейросетью\n",
        "\n",
        "Покажем это в цифрах"
      ]
    },
    {
      "cell_type": "code",
      "execution_count": null,
      "metadata": {
        "colab": {
          "base_uri": "https://localhost:8080/"
        },
        "id": "wlDtH-gr3JJ3",
        "outputId": "41cf90b3-7d98-4382-d13b-dd82117d1272"
      },
      "outputs": [
        {
          "name": "stdout",
          "output_type": "stream",
          "text": [
            "Total Texts: 487235\n",
            "Human Written Texts: 305797\n",
            "AI Generated Texts: 181438\n"
          ]
        }
      ],
      "source": [
        "print('Total Texts:', df['generated'].count())\n",
        "print('Human Written Texts:', (df['generated'] == 0.0).sum())\n",
        "print('AI Generated Texts:', (df['generated'] == 1.0).sum())\n"
      ]
    },
    {
      "cell_type": "markdown",
      "metadata": {
        "id": "E1Ucwk6sEtq3"
      },
      "source": [
        "А так же в процентном соотношении"
      ]
    },
    {
      "cell_type": "code",
      "execution_count": null,
      "metadata": {
        "colab": {
          "base_uri": "https://localhost:8080/",
          "height": 428
        },
        "id": "H9I6hcO0E5D2",
        "outputId": "e7a22e0d-e276-4d64-dd98-66ededb96e37"
      },
      "outputs": [
        {
          "data": {
            "image/png": "[encoded data removed]",
            "text/plain": [
              "<Figure size 640x480 with 1 Axes>"
            ]
          },
          "metadata": {},
          "output_type": "display_data"
        }
      ],
      "source": [
        "import matplotlib.pyplot as plt\n",
        "\n",
        "human = ((df['generated'] == 0.0).sum() / df['generated'].count()) * 100\n",
        "ai = ((df['generated'] == 1.0).sum() / df['generated'].count()) * 100\n",
        "labels = 'человек', 'сгенерированно'\n",
        "sizes = [human, ai]\n",
        "colors = ['pink', 'green']\n",
        "explode = (0.1, 0)\n",
        "plt.pie(sizes, explode=explode, labels=labels, colors=colors, autopct='%1.1f%%', shadow=True, startangle=140)\n",
        "plt.axis('equal')\n",
        "plt.title('Процентное соотношение классов')\n",
        "plt.show()"
      ]
    },
    {
      "cell_type": "markdown",
      "metadata": {
        "id": "R6r9sNAm3JJ4"
      },
      "source": [
        "# Предварительная обработка данных"
      ]
    },
    {
      "cell_type": "code",
      "execution_count": null,
      "metadata": {
        "colab": {
          "base_uri": "https://localhost:8080/",
          "height": 140
        },
        "id": "wszGNZjC3JJ4",
        "outputId": "6a7eaf01-ed99-425d-d2b7-05bdc6db6736"
      },
      "outputs": [
        {
          "data": {
            "application/vnd.google.colaboratory.intrinsic+json": {
              "type": "string"
            },
            "text/plain": [
              "'Cars. Cars have been around since they became famous in the 1900s, when Henry Ford created and built the first ModelT. Cars have played a major role in our every day lives since then. But now, people are starting to question if limiting car usage would be a good thing. To me, limiting the use of cars might be a good thing to do.\\n\\nIn like matter of this, article, \"In German Suburb, Life Goes On Without Cars,\" by Elizabeth Rosenthal states, how automobiles are the linchpin of suburbs, where middle class families from either Shanghai or Chicago tend to make their homes. Experts say how this is a huge impediment to current efforts to reduce greenhouse gas emissions from tailpipe. Passenger cars are responsible for 12 percent of greenhouse gas emissions in Europe...and up to 50 percent in some carintensive areas in the United States. Cars are the main reason for the greenhouse gas emissions because of a lot of people driving them around all the time getting where they need to go. Article, \"Paris bans driving due to smog,\" by Robert Duffer says, how Paris, after days of nearrecord pollution, enforced a partial driving ban to clear the air of the global city. It also says, how on Monday, motorist with evennumbered license plates were ordered to leave their cars at home or be fined a 22euro fine 31. The same order would be applied to oddnumbered plates the following day. Cars are the reason for polluting entire cities like Paris. This shows how bad cars can be because, of all the pollution that they can cause to an entire city.\\n\\nLikewise, in the article, \"Carfree day is spinning into a big hit in Bogota,\" by Andrew Selsky says, how programs that\\'s set to spread to other countries, millions of Columbians hiked, biked, skated, or took the bus to work during a carfree day, leaving streets of this capital city eerily devoid of traffic jams. It was the third straight year cars have been banned with only buses and taxis permitted for the Day Without Cars in the capital city of 7 million. People like the idea of having carfree days because, it allows them to lesson the pollution that cars put out of their exhaust from people driving all the time. The article also tells how parks and sports centers have bustled throughout the city uneven, pitted sidewalks have been replaced by broad, smooth sidewalks rushhour restrictions have dramatically cut traffic and new restaurants and upscale shopping districts have cropped up. Having no cars has been good for the country of Columbia because, it has aloud them to repair things that have needed repairs for a long time, traffic jams have gone down, and restaurants and shopping districts have popped up, all due to the fact of having less cars around.\\n\\nIn conclusion, the use of less cars and having carfree days, have had a big impact on the environment of cities because, it is cutting down the air pollution that the cars have majorly polluted, it has aloud countries like Columbia to repair sidewalks, and cut down traffic jams. Limiting the use of cars would be a good thing for America. So we should limit the use of cars by maybe riding a bike, or maybe walking somewhere that isn\\'t that far from you and doesn\\'t need the use of a car to get you there. To me, limiting the use of cars might be a good thing to do.'"
            ]
          },
          "execution_count": 21,
          "metadata": {},
          "output_type": "execute_result"
        }
      ],
      "source": [
        "df['text'][0]"
      ]
    },
    {
      "cell_type": "markdown",
      "metadata": {
        "id": "oO2dn4F4JvtM"
      },
      "source": [
        "в тексте много не нужных знаков препенания и символов.\n",
        "\n",
        "Удаление знаков препинания из датасета при обучении модели текстового анализа может быть полезным по нескольким причинам:\n",
        "\n",
        "1. Улучшение обработки текста: Знаки препинания не всегда содержат полезную информацию для модели, и их наличие может затруднить обработку текста. Удаление знаков препинания помогает сделать текст более чистым и легким для анализа.\n",
        "\n",
        "2. Предотвращение искажений: Наличие знаков препинания может исказить результаты анализа, особенно при использовании методов обработки естественного языка. Например, пунктуация может влиять на распознавание слов и фраз, что может привести к неправильным выводам модели.\n",
        "\n",
        "3. Уменьшение шума: Знаки препинания могут быть рассмотрены моделью как шум или ненужная информация, которая может повлиять на качество модели. Удаление знаков препинания позволяет сосредоточиться на существенных особенностях текста.\n",
        "\n",
        "Таким образом, удаление знаков препинания из датасета при обучении модели помогает улучшить обработку текста, предотвратить искажения результатов и снизить уровень шума в данных, что в конечном итоге способствует повышению качества и эффективности модели текстового анализа."
      ]
    },
    {
      "cell_type": "markdown",
      "metadata": {
        "id": "DjaIw1_t3JJ5"
      },
      "source": [
        "Удалим каретки и слэши из текста"
      ]
    },
    {
      "cell_type": "code",
      "execution_count": 4,
      "metadata": {
        "id": "3wfwEYLI3JJ5"
      },
      "outputs": [],
      "source": [
        "def remove_tags(text):\n",
        "    tags = ['\\n', '\\'']\n",
        "    for tag in tags:\n",
        "        text = text.replace(tag, '')\n",
        "\n",
        "    return text\n",
        "\n",
        "\n",
        "df['text'] = df['text'].apply(remove_tags)\n"
      ]
    },
    {
      "cell_type": "code",
      "execution_count": null,
      "metadata": {
        "colab": {
          "base_uri": "https://localhost:8080/",
          "height": 140
        },
        "id": "kFtUopBQ3JJ6",
        "outputId": "1a44c039-e270-44c9-a99d-7df246b9d8c5"
      },
      "outputs": [
        {
          "data": {
            "application/vnd.google.colaboratory.intrinsic+json": {
              "type": "string"
            },
            "text/plain": [
              "'Cars. Cars have been around since they became famous in the 1900s, when Henry Ford created and built the first ModelT. Cars have played a major role in our every day lives since then. But now, people are starting to question if limiting car usage would be a good thing. To me, limiting the use of cars might be a good thing to do.In like matter of this, article, \"In German Suburb, Life Goes On Without Cars,\" by Elizabeth Rosenthal states, how automobiles are the linchpin of suburbs, where middle class families from either Shanghai or Chicago tend to make their homes. Experts say how this is a huge impediment to current efforts to reduce greenhouse gas emissions from tailpipe. Passenger cars are responsible for 12 percent of greenhouse gas emissions in Europe...and up to 50 percent in some carintensive areas in the United States. Cars are the main reason for the greenhouse gas emissions because of a lot of people driving them around all the time getting where they need to go. Article, \"Paris bans driving due to smog,\" by Robert Duffer says, how Paris, after days of nearrecord pollution, enforced a partial driving ban to clear the air of the global city. It also says, how on Monday, motorist with evennumbered license plates were ordered to leave their cars at home or be fined a 22euro fine 31. The same order would be applied to oddnumbered plates the following day. Cars are the reason for polluting entire cities like Paris. This shows how bad cars can be because, of all the pollution that they can cause to an entire city.Likewise, in the article, \"Carfree day is spinning into a big hit in Bogota,\" by Andrew Selsky says, how programs thats set to spread to other countries, millions of Columbians hiked, biked, skated, or took the bus to work during a carfree day, leaving streets of this capital city eerily devoid of traffic jams. It was the third straight year cars have been banned with only buses and taxis permitted for the Day Without Cars in the capital city of 7 million. People like the idea of having carfree days because, it allows them to lesson the pollution that cars put out of their exhaust from people driving all the time. The article also tells how parks and sports centers have bustled throughout the city uneven, pitted sidewalks have been replaced by broad, smooth sidewalks rushhour restrictions have dramatically cut traffic and new restaurants and upscale shopping districts have cropped up. Having no cars has been good for the country of Columbia because, it has aloud them to repair things that have needed repairs for a long time, traffic jams have gone down, and restaurants and shopping districts have popped up, all due to the fact of having less cars around.In conclusion, the use of less cars and having carfree days, have had a big impact on the environment of cities because, it is cutting down the air pollution that the cars have majorly polluted, it has aloud countries like Columbia to repair sidewalks, and cut down traffic jams. Limiting the use of cars would be a good thing for America. So we should limit the use of cars by maybe riding a bike, or maybe walking somewhere that isnt that far from you and doesnt need the use of a car to get you there. To me, limiting the use of cars might be a good thing to do.'"
            ]
          },
          "execution_count": 23,
          "metadata": {},
          "output_type": "execute_result"
        }
      ],
      "source": [
        "df['text'][0]"
      ]
    },
    {
      "cell_type": "code",
      "execution_count": 5,
      "metadata": {
        "id": "9aQ7jTvY3JJ6"
      },
      "outputs": [],
      "source": [
        "import string"
      ]
    },
    {
      "cell_type": "code",
      "execution_count": 6,
      "metadata": {
        "colab": {
          "base_uri": "https://localhost:8080/",
          "height": 35
        },
        "id": "wGr8W-EW3JJ6",
        "outputId": "d86ca8d3-bbbd-4d33-e08b-abccbd1d2cd4"
      },
      "outputs": [
        {
          "output_type": "execute_result",
          "data": {
            "text/plain": [
              "'!\"#$%&\\'()*+,-./:;<=>?@[\\\\]^_`{|}~'"
            ],
            "application/vnd.google.colaboratory.intrinsic+json": {
              "type": "string"
            }
          },
          "metadata": {},
          "execution_count": 6
        }
      ],
      "source": [
        "string.punctuation"
      ]
    },
    {
      "cell_type": "markdown",
      "metadata": {
        "id": "UfDHs7AO3JJ7"
      },
      "source": [
        "Теперь удалим пунктацию из текста"
      ]
    },
    {
      "cell_type": "code",
      "execution_count": 7,
      "metadata": {
        "id": "yN26Cpbb3JJ8"
      },
      "outputs": [],
      "source": [
        "def remove_punc(text):\n",
        "    new_text = [x for x in text if x not in string.punctuation]\n",
        "    new_text = ''.join(new_text)\n",
        "    return new_text\n",
        "\n",
        "df['text']=df['text'].apply(remove_punc)\n"
      ]
    },
    {
      "cell_type": "markdown",
      "metadata": {
        "id": "Nn2AGc0rLITJ"
      },
      "source": [
        "Проверим как выполнился код, просмотрев первый и последний тексты датасета"
      ]
    },
    {
      "cell_type": "code",
      "execution_count": null,
      "metadata": {
        "colab": {
          "base_uri": "https://localhost:8080/",
          "height": 140
        },
        "id": "cgU-hclB3JJ8",
        "outputId": "45a0baa7-7af2-4b19-f897-af27b2e44b48"
      },
      "outputs": [
        {
          "data": {
            "application/vnd.google.colaboratory.intrinsic+json": {
              "type": "string"
            },
            "text/plain": [
              "'Cars Cars have been around since they became famous in the 1900s when Henry Ford created and built the first ModelT Cars have played a major role in our every day lives since then But now people are starting to question if limiting car usage would be a good thing To me limiting the use of cars might be a good thing to doIn like matter of this article In German Suburb Life Goes On Without Cars by Elizabeth Rosenthal states how automobiles are the linchpin of suburbs where middle class families from either Shanghai or Chicago tend to make their homes Experts say how this is a huge impediment to current efforts to reduce greenhouse gas emissions from tailpipe Passenger cars are responsible for 12 percent of greenhouse gas emissions in Europeand up to 50 percent in some carintensive areas in the United States Cars are the main reason for the greenhouse gas emissions because of a lot of people driving them around all the time getting where they need to go Article Paris bans driving due to smog by Robert Duffer says how Paris after days of nearrecord pollution enforced a partial driving ban to clear the air of the global city It also says how on Monday motorist with evennumbered license plates were ordered to leave their cars at home or be fined a 22euro fine 31 The same order would be applied to oddnumbered plates the following day Cars are the reason for polluting entire cities like Paris This shows how bad cars can be because of all the pollution that they can cause to an entire cityLikewise in the article Carfree day is spinning into a big hit in Bogota by Andrew Selsky says how programs thats set to spread to other countries millions of Columbians hiked biked skated or took the bus to work during a carfree day leaving streets of this capital city eerily devoid of traffic jams It was the third straight year cars have been banned with only buses and taxis permitted for the Day Without Cars in the capital city of 7 million People like the idea of having carfree days because it allows them to lesson the pollution that cars put out of their exhaust from people driving all the time The article also tells how parks and sports centers have bustled throughout the city uneven pitted sidewalks have been replaced by broad smooth sidewalks rushhour restrictions have dramatically cut traffic and new restaurants and upscale shopping districts have cropped up Having no cars has been good for the country of Columbia because it has aloud them to repair things that have needed repairs for a long time traffic jams have gone down and restaurants and shopping districts have popped up all due to the fact of having less cars aroundIn conclusion the use of less cars and having carfree days have had a big impact on the environment of cities because it is cutting down the air pollution that the cars have majorly polluted it has aloud countries like Columbia to repair sidewalks and cut down traffic jams Limiting the use of cars would be a good thing for America So we should limit the use of cars by maybe riding a bike or maybe walking somewhere that isnt that far from you and doesnt need the use of a car to get you there To me limiting the use of cars might be a good thing to do'"
            ]
          },
          "execution_count": 27,
          "metadata": {},
          "output_type": "execute_result"
        }
      ],
      "source": [
        "df['text'][0]"
      ]
    },
    {
      "cell_type": "code",
      "execution_count": null,
      "metadata": {
        "colab": {
          "base_uri": "https://localhost:8080/",
          "height": 140
        },
        "id": "Fe8YGxRLNGQP",
        "outputId": "47b2eb51-4569-4527-be85-c0d097414f24"
      },
      "outputs": [
        {
          "data": {
            "application/vnd.google.colaboratory.intrinsic+json": {
              "type": "string"
            },
            "text/plain": [
              "'Richard Non Jimmy Carter and Bob Dole and other companies have all agreed to abolish the Electoral College and I to agree Xor many reasons One ox the major issue is that the voters dont know what really happens to their vote Another issue to add is that the electoral collage is unfair outdated and irrationalDo the citizens that go and vote Xor their candidate actually choose Xor the candidates electors In the text is states that not only do I vote Xor candidates electors but also  help choose the states electors when you vote Xor the president This meaning that my vote counts Xor several things but was I aware Maybe not because I simply think Im voting Xor a candidate running Xor president not the candidates elector The Electoral College was meet Xor a compromise between Congress and Citizens not all these extra peopleThis year voters can expect another close election in which the popular vote winner could lose again Certainly this doesnt make since because how could the winner ox the votes loose Which is one ox the reasons why the Electoral College is unfair Also in the beginning ox the article its said that  A majority ox 270 electoral votes is required to elect the President Meaning that the president already has an advance in the votes I think that the Electoral College process should be gone Xor its unreality and be replaced to a new way ox electionIn the new way ox electing our president should be in a New steps and also not worrying about the candidate already having an advanced amount ox votes Instead ox the votes going place to place they should just be in the state and counted Xor equal no adjustments then after the election send to Congress or the National Archives as part ox the optical records ox the presidential electionIn conclusion the electoral College should be taken out permanently and be replaced by a new way or process when it comes to the citizens votes and the election ox the candidates'"
            ]
          },
          "execution_count": 28,
          "metadata": {},
          "output_type": "execute_result"
        }
      ],
      "source": [
        "df['text'][487234]"
      ]
    },
    {
      "cell_type": "markdown",
      "metadata": {
        "id": "kax8eMIN3JJ8"
      },
      "source": [
        "# **Проверка орфографии**"
      ]
    },
    {
      "cell_type": "markdown",
      "metadata": {
        "id": "I2IFMXNTU3XR"
      },
      "source": [
        "\n",
        "Эта проверка позволит нам сохранить корректность данных, так как орфографические ошибки в тексте могут привести к искажению смысла выраженного сообщения. Проверка орфографии позволяет обнаружить и исправить опечатки, ошибки в написании слов и другие ошибки, что поможет модели работать с правильными данными.\n",
        "\n",
        "Ну а так же правильная орфография поможет модели точнее определять ключевые слова, фразы и контекст в тексте, что в конечном итоге повысит качество и интерпретируемость результатов анализа."
      ]
    },
    {
      "cell_type": "code",
      "execution_count": 8,
      "metadata": {
        "colab": {
          "base_uri": "https://localhost:8080/"
        },
        "id": "8WoxTU7W3JJ9",
        "outputId": "8bbc15b8-c26c-432d-8eb9-68fcf785becb"
      },
      "outputs": [
        {
          "output_type": "stream",
          "name": "stderr",
          "text": [
            "[nltk_data] Downloading package words to /root/nltk_data...\n",
            "[nltk_data]   Package words is already up-to-date!\n"
          ]
        }
      ],
      "source": [
        "import nltk\n",
        "from nltk.corpus import words\n",
        "\n",
        "nltk.download('words')\n",
        "english_words = set(words.words())\n",
        "\n",
        "\n",
        "def is_spelled_correctly(word):\n",
        "    return word in english_words"
      ]
    },
    {
      "cell_type": "code",
      "execution_count": 9,
      "metadata": {
        "colab": {
          "base_uri": "https://localhost:8080/"
        },
        "id": "gDwHmNl13JJ9",
        "outputId": "65d5fc59-2736-4ebd-f371-21f8d090ef13"
      },
      "outputs": [
        {
          "output_type": "stream",
          "name": "stdout",
          "text": [
            "The word 'I firmly believe that governments worldwide should take immediate action to address the pressing issue of climate change as the consequences of inaction with be catastrophic for the planet and future generations There are several competing reasons that support my positionFirstly climate change poses a significant threat to our natural environment The earths temperature is rising at an alarming rate resulting in meeting ice caps rising sea Levels and an increase in extreme weather events such as hurricanes droughts and heatwaves These environmental changes have a devastating impact on ecosystems resulting in the Loss of biodiversity habitat destruction and species extinction For example the Great Barrier Reef one of the most biodiverse ecosystems on the planet has seen a significant decline in recent years due to coral bleaching caused by warming ocean temperaturesSecondly the negative impacts of climate change extend beyond environmental concerns affecting human health and economic growth As the planet warms the spread of diseases and pests with increase Leading to more frequent outbreaks of illnesses such as malaria and dengue fever Additionally the economic costs associated with climate change including damage to infrastructure Loss of productivity and declining tourism with be staggering In fact a recent report by the Intergovernmental Panel on Climate Change IPCC estimated that the global cost of failing to act on climate change could exceed 54 trillion by the end of this centuryFinally taking action to address climate change presents an opportunity for governments to invest in renewable energy sources creating new jobs spurring economic growth and reducing our dependence on fossil fuels For example countries Like Germany Denmark and China have seen significant economic benefits from their investments in wind solar and other clean technologiesIn conclusion the evidence is clear that immediate action must be taken by governments worldwide to address the urgent threat of climate change Failure to act now with result in irreparable damage to our planet and future generations wellbeing We must work together to reduce greenhouse gas emissions protect our natural environment and invest in a sustainable clean energy future The time for action is now and we cannot afford to wait any Longer' is spelled incorrectly.\n"
          ]
        }
      ],
      "source": [
        "word_to_check = df['text'][487232]\n",
        "if is_spelled_correctly(word_to_check):\n",
        "    print(f\"The word '{word_to_check}' is spelled correctly.\")\n",
        "else:\n",
        "    print(f\"The word '{word_to_check}' is spelled incorrectly.\")"
      ]
    },
    {
      "cell_type": "code",
      "execution_count": null,
      "metadata": {
        "colab": {
          "base_uri": "https://localhost:8080/",
          "height": 140
        },
        "id": "25R2CKGD3JJ9",
        "outputId": "9525d9c3-6637-4416-f229-c90143b5df76"
      },
      "outputs": [
        {
          "data": {
            "application/vnd.google.colaboratory.intrinsic+json": {
              "type": "string"
            },
            "text/plain": [
              "'I firmly believe that governments worldwide should take immediate action to address the pressing issue of climate change as the consequences of inaction with be catastrophic for the planet and future generations There are several competing reasons that support my positionFirstly climate change poses a significant threat to our natural environment The earths temperature is rising at an alarming rate resulting in meeting ice caps rising sea Levels and an increase in extreme weather events such as hurricanes droughts and heatwaves These environmental changes have a devastating impact on ecosystems resulting in the Loss of biodiversity habitat destruction and species extinction For example the Great Barrier Reef one of the most biodiverse ecosystems on the planet has seen a significant decline in recent years due to coral bleaching caused by warming ocean temperaturesSecondly the negative impacts of climate change extend beyond environmental concerns affecting human health and economic growth As the planet warms the spread of diseases and pests with increase Leading to more frequent outbreaks of illnesses such as malaria and dengue fever Additionally the economic costs associated with climate change including damage to infrastructure Loss of productivity and declining tourism with be staggering In fact a recent report by the Intergovernmental Panel on Climate Change IPCC estimated that the global cost of failing to act on climate change could exceed 54 trillion by the end of this centuryFinally taking action to address climate change presents an opportunity for governments to invest in renewable energy sources creating new jobs spurring economic growth and reducing our dependence on fossil fuels For example countries Like Germany Denmark and China have seen significant economic benefits from their investments in wind solar and other clean technologiesIn conclusion the evidence is clear that immediate action must be taken by governments worldwide to address the urgent threat of climate change Failure to act now with result in irreparable damage to our planet and future generations wellbeing We must work together to reduce greenhouse gas emissions protect our natural environment and invest in a sustainable clean energy future The time for action is now and we cannot afford to wait any Longer'"
            ]
          },
          "execution_count": 18,
          "metadata": {},
          "output_type": "execute_result"
        }
      ],
      "source": [
        "df['text'][487232]"
      ]
    },
    {
      "cell_type": "markdown",
      "metadata": {
        "id": "rbxYvKHb3JJ9"
      },
      "source": [
        "Удалим стоп-слова из текста, не несущие смысловую нагрузку для модели"
      ]
    },
    {
      "cell_type": "markdown",
      "metadata": {
        "id": "he1CVaBTTN87"
      },
      "source": [
        "Удаление стоп-слов из датасета при обучении модели текстового анализа может быть полезным по нескольким причинам:\n",
        "\n",
        "1. Улучшение качества модели: Использование стоп-слов (часто встречающихся слов, таких как предлоги, союзы, местоимения) в обучающем датасете может замедлить процесс обучения и ухудшить точность модели из-за избыточной информации.\n",
        "\n",
        "2. Сокращение размера датасета: Удаление стоп-слов позволяет сократить размер датасета и ускорить обучение модели за счет уменьшения количества слов, которые модель должна обработать.\n",
        "\n",
        "3. Улучшение интерпретации результатов: После удаления стоп-слов, модель будет более фокусирована на ключевых словах и фразах, что может улучшить интерпретацию результатов и выделить более значимые особенности текста.\n",
        "\n",
        "Таким образом, удаление стоп-слов из датасета при обучении модели помогает повысить эффективность и точность модели, сделать ее более компактной и улучшить интерпретацию результатов."
      ]
    },
    {
      "cell_type": "code",
      "execution_count": 10,
      "metadata": {
        "colab": {
          "base_uri": "https://localhost:8080/"
        },
        "id": "XVLdmS9v3JJ-",
        "outputId": "3d524d20-cc47-4404-dd3a-9ba2d547635b"
      },
      "outputs": [
        {
          "output_type": "stream",
          "name": "stderr",
          "text": [
            "[nltk_data] Downloading package stopwords to /root/nltk_data...\n",
            "[nltk_data]   Package stopwords is already up-to-date!\n"
          ]
        }
      ],
      "source": [
        "nltk.download(\"stopwords\")\n",
        "from nltk.corpus import stopwords\n",
        "from nltk.tokenize import word_tokenize\n",
        "\n",
        "def remove_stopwords(text):\n",
        "    stop_words = set(stopwords.words('english'))\n",
        "    words = nltk.word_tokenize(text)\n",
        "    filtered_words = [word for word in words if word.lower() not in stop_words]\n",
        "    filtered_words= ' '.join(filtered_words)\n",
        "    return filtered_words"
      ]
    },
    {
      "cell_type": "code",
      "execution_count": null,
      "metadata": {
        "id": "DIIBXYChYI7j"
      },
      "outputs": [],
      "source": [
        "df['text']=df['text'].apply(remove_stopwords)"
      ]
    },
    {
      "cell_type": "markdown",
      "metadata": {
        "id": "q-jo8UD93JJ-"
      },
      "source": [
        "# Разделим датасет на тестовую и обучающие выборки"
      ]
    },
    {
      "cell_type": "markdown",
      "metadata": {
        "id": "_EUTAQaKfcZR"
      },
      "source": [
        "Разделение данных на обучающую и тестовую выборки является важным шагом в аналитике данных. Это позволяет нам оценить производительность модели на независимой выборке и предотвратить переобучение.\n",
        "\n",
        "определим переменные:"
      ]
    },
    {
      "cell_type": "code",
      "execution_count": 11,
      "metadata": {
        "id": "uUBXNAUx3JJ-"
      },
      "outputs": [],
      "source": [
        "y=df['generated']\n",
        "X=df['text']"
      ]
    },
    {
      "cell_type": "code",
      "execution_count": 12,
      "metadata": {
        "id": "WPibIAG_3JJ-"
      },
      "outputs": [],
      "source": [
        "from sklearn.model_selection import train_test_split\n",
        "X_train, X_test, y_train, y_test = train_test_split(X,y,test_size=0.3,random_state=42)"
      ]
    },
    {
      "cell_type": "code",
      "execution_count": 13,
      "metadata": {
        "colab": {
          "base_uri": "https://localhost:8080/"
        },
        "id": "bvJjxRFM3JJ-",
        "outputId": "67d41cec-558c-4fac-a9b8-ef834c57ab35"
      },
      "outputs": [
        {
          "output_type": "stream",
          "name": "stdout",
          "text": [
            "341064\n",
            "341064\n"
          ]
        }
      ],
      "source": [
        "print(len(X_train))\n",
        "print(len(y_train))"
      ]
    },
    {
      "cell_type": "code",
      "execution_count": 14,
      "metadata": {
        "id": "ERZzAViPBzHZ"
      },
      "outputs": [],
      "source": [
        "from sklearn.feature_extraction.text import TfidfVectorizer\n",
        "\n",
        "v = TfidfVectorizer(norm=None, max_df=0.8, max_features=500, decode_error='replace') # Взвешиваем вектора\n",
        "X_train_vector = v.fit_transform(X_train)\n",
        "X_test_vector = v.transform(X_test)"
      ]
    },
    {
      "cell_type": "markdown",
      "metadata": {
        "id": "hlh5WV-kuy2w"
      },
      "source": [
        "# Логистическая регрессия"
      ]
    },
    {
      "cell_type": "markdown",
      "source": [
        "Логистическая регрессия выводит прогнозы о точках в бинарном масштабе — нулевом или единичном. Если значение чего-либо равно либо больше 0.5, то объект классифицируется в большую сторону (к единице). Если значение меньше 0.5 — в меньшую (к нулю).\n",
        "\n",
        "У каждого признака есть своя метка, равная только 0 или только 1. Логистическая регрессия является линейным классификатором и поэтому используется, когда в данных прослеживается какая-то линейная зависимость."
      ],
      "metadata": {
        "id": "_MfDm0fGqSJ-"
      }
    },
    {
      "cell_type": "code",
      "execution_count": null,
      "metadata": {
        "id": "AjfLTVFikNZX"
      },
      "outputs": [],
      "source": [
        "from sklearn.linear_model import LogisticRegression\n",
        "\n",
        "clf = LogisticRegression( random_state=64, solver='lbfgs', max_iter=10000, n_jobs=-1)"
      ]
    },
    {
      "cell_type": "code",
      "execution_count": null,
      "metadata": {
        "colab": {
          "base_uri": "https://localhost:8080/"
        },
        "id": "yCi8UByNkNMT",
        "outputId": "0ba6a669-826a-42a2-a7a0-39b4d041ddb2"
      },
      "outputs": [
        {
          "name": "stdout",
          "output_type": "stream",
          "text": [
            "Время старта: 2024-05-13 14:07:27.543183\n",
            "Время окончания: 2024-05-13 14:07:53.182065\n",
            "Время работы:  0:00:25.638882\n"
          ]
        }
      ],
      "source": [
        "import datetime\n",
        "\n",
        "# начальное время\n",
        "start = datetime.datetime.now()\n",
        "print('Время старта: ' + str(start))\n",
        "\n",
        "clf.fit(X_train_vector, y_train)\n",
        "\n",
        "#фиксируем и выводим время окончания работы кода\n",
        "finish = datetime.datetime.now()\n",
        "print('Время окончания: ' + str(finish))\n",
        "\n",
        "# вычитаем время старта из времени окончания\n",
        "time_LogReg = finish - start\n",
        "print(f'Время работы:  {time_LogReg}')"
      ]
    },
    {
      "cell_type": "code",
      "execution_count": null,
      "metadata": {
        "id": "HBNap1iMCE7D"
      },
      "outputs": [],
      "source": [
        "y_pred = clf.predict(X_test_vector)"
      ]
    },
    {
      "cell_type": "code",
      "execution_count": null,
      "metadata": {
        "colab": {
          "base_uri": "https://localhost:8080/"
        },
        "id": "3yW9aB-39p5b",
        "outputId": "f5dcfc51-3997-4c87-b539-2237357fbbee"
      },
      "outputs": [
        {
          "data": {
            "text/plain": [
              "419952    0.0\n",
              "478535    0.0\n",
              "133753    0.0\n",
              "68011     0.0\n",
              "195939    0.0\n",
              "         ... \n",
              "467451    1.0\n",
              "311626    1.0\n",
              "181725    0.0\n",
              "63755     0.0\n",
              "320910    1.0\n",
              "Name: generated, Length: 146171, dtype: float64"
            ]
          },
          "execution_count": 49,
          "metadata": {},
          "output_type": "execute_result"
        }
      ],
      "source": [
        "y_test"
      ]
    },
    {
      "cell_type": "markdown",
      "metadata": {
        "id": "-vJ7_nlaAkZD"
      },
      "source": [
        "**Вывод результатов**"
      ]
    },
    {
      "cell_type": "markdown",
      "metadata": {
        "id": "-bXgHemWWgxq"
      },
      "source": [
        "При использовании моделей классификации в машинном обучении есть три общих показателя, которые мы используем для оценки качества модели:\n",
        "\n",
        "1. Точность (precision) : процент правильных положительных прогнозов по отношению к общему количеству положительных прогнозов.\n",
        "\n",
        "2. Отзыв (recall) : процент правильных положительных прогнозов по отношению к общему количеству фактических положительных результатов.\n",
        "\n",
        "3. Оценка F1 : средневзвешенное гармоническое значение точности и полноты. Чем ближе к 1, тем лучше модель.\n",
        "\n",
        "В пакете metrics собрано множество функций, которые позволяют исследовать поведение уже обученных моделей, в том числе - метрики эффективности. Импортируем несколько нужных нам инструментов:\n",
        "\n",
        "отчет о классификации. Он показывает всю основную информацию по итогам классификации."
      ]
    },
    {
      "cell_type": "code",
      "execution_count": null,
      "metadata": {
        "colab": {
          "base_uri": "https://localhost:8080/"
        },
        "id": "pncIF4Z1kMp2",
        "outputId": "e1ed6256-892d-4225-e5ea-25c3dca7ae04"
      },
      "outputs": [
        {
          "name": "stdout",
          "output_type": "stream",
          "text": [
            "0.9798934125100054\n",
            "              precision    recall  f1-score   support\n",
            "\n",
            "         0.0       0.98      0.99      0.98     91597\n",
            "         1.0       0.98      0.97      0.97     54574\n",
            "\n",
            "    accuracy                           0.98    146171\n",
            "   macro avg       0.98      0.98      0.98    146171\n",
            "weighted avg       0.98      0.98      0.98    146171\n",
            "\n"
          ]
        }
      ],
      "source": [
        "from sklearn.metrics import accuracy_score, precision_score, recall_score, f1_score, confusion_matrix, classification_report\n",
        "print(accuracy_score(y_test, y_pred))\n",
        "print(classification_report(y_test,y_pred))"
      ]
    },
    {
      "cell_type": "code",
      "execution_count": null,
      "metadata": {
        "colab": {
          "base_uri": "https://localhost:8080/",
          "height": 472
        },
        "id": "YTq-D06e_8SD",
        "outputId": "83de4969-bd7c-4e21-edbf-f20975ef9ddb"
      },
      "outputs": [
        {
          "data": {
            "image/png": "[encoded data removed]",
            "text/plain": [
              "<Figure size 640x480 with 2 Axes>"
            ]
          },
          "metadata": {},
          "output_type": "display_data"
        }
      ],
      "source": [
        "import matplotlib.pyplot as plt\n",
        "\n",
        "ax= plt.subplot()\n",
        "\n",
        "cmm = confusion_matrix(y_test,y_pred)\n",
        "sns.heatmap(cmm, annot=True, fmt='g', ax=ax);\n",
        "\n",
        "ax.set_xlabel('Predicted labels');ax.set_ylabel('True labels');\n",
        "ax.set_title('Confusion Matrix');"
      ]
    },
    {
      "cell_type": "markdown",
      "metadata": {
        "id": "wimg2RdOAp81"
      },
      "source": [
        "# Найвный Байессовский классификатор"
      ]
    },
    {
      "cell_type": "markdown",
      "source": [
        "Такой классификатор вычисляет вероятность принадлежности объекта к какому-то классу. Эта вероятность вычисляется из шанса, что какое-то событие произойдёт, с опорой на уже на произошедшие события.\n",
        "\n",
        "Каждый параметр классифицируемого объекта считается независимым от других параметров."
      ],
      "metadata": {
        "id": "rc4-D1Mip_yL"
      }
    },
    {
      "cell_type": "code",
      "execution_count": null,
      "metadata": {
        "colab": {
          "base_uri": "https://localhost:8080/"
        },
        "id": "il0IfrbfzMmy",
        "outputId": "f8d7280c-badf-4237-cb1a-2fee7ce58021"
      },
      "outputs": [
        {
          "name": "stdout",
          "output_type": "stream",
          "text": [
            "Время старта: 2024-05-16 09:35:18.997684\n",
            "Время окончания: 2024-05-16 09:35:19.293246\n",
            "Время работы:  0:00:00.295562\n"
          ]
        }
      ],
      "source": [
        "from sklearn.naive_bayes import MultinomialNB\n",
        "naive_bayes = MultinomialNB()\n",
        "\n",
        "import datetime\n",
        "\n",
        "start = datetime.datetime.now()\n",
        "print('Время старта: ' + str(start))\n",
        "\n",
        "naive_bayes.fit(X_train_vector, y_train)\n",
        "\n",
        "finish = datetime.datetime.now()\n",
        "print('Время окончания: ' + str(finish))\n",
        "\n",
        "time_NB = finish - start\n",
        "print(f'Время работы:  {time_NB}')"
      ]
    },
    {
      "cell_type": "markdown",
      "metadata": {
        "id": "OqHmqcZ4Ekcf"
      },
      "source": [
        "Выведем кривую обучения. На графике мы видим, что как такого переобучения и недообучения нет"
      ]
    },
    {
      "cell_type": "code",
      "execution_count": null,
      "metadata": {
        "colab": {
          "base_uri": "https://localhost:8080/"
        },
        "outputId": "a8cc1d9a-794f-454b-f197-2e6bb25b24d8",
        "id": "5N5Hg99KnxmH"
      },
      "outputs": [
        {
          "output_type": "display_data",
          "data": {
            "text/plain": [
              "<Figure size 800x550 with 1 Axes>"
            ],
            "image/png": "[encoded data removed]"
          },
          "metadata": {}
        }
      ],
      "source": [
        "visualizer = LearningCurve(\n",
        "   KNeighborsClassifier(), scoring='accuracy', train_sizes=np.linspace(0.7, 1.0, 10)\n",
        ").fit(X_train_vector, y_train).show()"
      ]
    },
    {
      "cell_type": "code",
      "execution_count": null,
      "metadata": {
        "id": "xBwd-lYq13SN"
      },
      "outputs": [],
      "source": [
        "y_pred = naive_bayes.predict(X_test_vector)\n",
        "accuracy_nb = accuracy_score(y_test, y_pred)"
      ]
    },
    {
      "cell_type": "code",
      "execution_count": null,
      "metadata": {
        "colab": {
          "base_uri": "https://localhost:8080/"
        },
        "id": "IaKxhOnRL3e6",
        "outputId": "e3371df0-1e79-485e-a0be-7a3a3a172612"
      },
      "outputs": [
        {
          "name": "stdout",
          "output_type": "stream",
          "text": [
            "              precision    recall  f1-score   support\n",
            "\n",
            "         0.0       0.90      0.95      0.92     91597\n",
            "         1.0       0.90      0.83      0.87     54574\n",
            "\n",
            "    accuracy                           0.90    146171\n",
            "   macro avg       0.90      0.89      0.89    146171\n",
            "weighted avg       0.90      0.90      0.90    146171\n",
            "\n"
          ]
        }
      ],
      "source": [
        "print(classification_report(y_test, y_pred))"
      ]
    },
    {
      "cell_type": "markdown",
      "metadata": {
        "id": "v6QQOnRtEQQ_"
      },
      "source": [
        "# Метод k-ближайших соседей"
      ]
    },
    {
      "cell_type": "markdown",
      "source": [
        "Этот метод работает с помощью поиска кратчайшей дистанции между тестируемым объектом и ближайшими к нему классифицированным объектами из обучающего набора. Классифицируемый объект будет относится к тому классу, к которому принадлежит ближайший объект набора."
      ],
      "metadata": {
        "id": "5pnytPZ5ppng"
      }
    },
    {
      "cell_type": "code",
      "execution_count": 15,
      "metadata": {
        "colab": {
          "base_uri": "https://localhost:8080/"
        },
        "id": "rEXaQQmoKOjd",
        "outputId": "57382606-d689-407b-ea90-5724aa46e943"
      },
      "outputs": [
        {
          "output_type": "stream",
          "name": "stdout",
          "text": [
            "Время старта: 2024-05-17 19:38:16.872367\n",
            "Время окончания: 2024-05-17 19:38:17.067559\n",
            "Время работы:  0:00:00.195192\n"
          ]
        }
      ],
      "source": [
        "from sklearn.neighbors import KNeighborsClassifier\n",
        "\n",
        "k_neighbors = KNeighborsClassifier()\n",
        "\n",
        "import datetime\n",
        "\n",
        "start = datetime.datetime.now()\n",
        "print('Время старта: ' + str(start))\n",
        "\n",
        "k_neighbors.fit(X_train_vector, y_train)\n",
        "\n",
        "finish = datetime.datetime.now()\n",
        "print('Время окончания: ' + str(finish))\n",
        "\n",
        "time_kn = finish - start\n",
        "print(f'Время работы:  {time_kn}')"
      ]
    },
    {
      "cell_type": "code",
      "execution_count": null,
      "metadata": {
        "id": "EifoiC4FKN1d"
      },
      "outputs": [],
      "source": [
        "y_pred = k_neighbors.predict(X_test_vector)\n",
        "accuracy_kn = accuracy_score(y_test, y_pred)\n",
        "accuracy_kn"
      ]
    },
    {
      "cell_type": "code",
      "execution_count": null,
      "metadata": {
        "colab": {
          "base_uri": "https://localhost:8080/"
        },
        "id": "6AyWKJUgKNv9",
        "outputId": "d4cc4e78-ecc4-4479-d69c-bac76af1bfa6"
      },
      "outputs": [
        {
          "name": "stdout",
          "output_type": "stream",
          "text": [
            "              precision    recall  f1-score   support\n",
            "\n",
            "           0       0.91      1.00      0.96       914\n",
            "           1       1.00      0.30      0.46       121\n",
            "\n",
            "    accuracy                           0.92      1035\n",
            "   macro avg       0.96      0.65      0.71      1035\n",
            "weighted avg       0.92      0.92      0.90      1035\n",
            "\n"
          ]
        }
      ],
      "source": [
        "print(classification_report(y_test, y_pred))"
      ]
    },
    {
      "cell_type": "code",
      "execution_count": null,
      "metadata": {
        "colab": {
          "base_uri": "https://localhost:8080/"
        },
        "id": "eq5m97S81EMV",
        "outputId": "a8cc1d9a-794f-454b-f197-2e6bb25b24d8"
      },
      "outputs": [
        {
          "data": {
            "image/png": "[encoded data removed]",
            "text/plain": [
              "<Figure size 800x550 with 1 Axes>"
            ]
          },
          "metadata": {},
          "output_type": "display_data"
        }
      ],
      "source": [
        "visualizer = LearningCurve(\n",
        "   KNeighborsClassifier(), scoring='accuracy', train_sizes=np.linspace(0.7, 1.0, 10)\n",
        ").fit(X_train, y_train).show()"
      ]
    },
    {
      "cell_type": "markdown",
      "metadata": {
        "id": "quZxwmLPZju2"
      },
      "source": [
        "# Метод опорных векторов"
      ]
    },
    {
      "cell_type": "code",
      "execution_count": null,
      "metadata": {
        "id": "J-H0RpuMZ1Yl"
      },
      "outputs": [],
      "source": [
        "from sklearn.svm import SVC"
      ]
    },
    {
      "cell_type": "code",
      "execution_count": null,
      "metadata": {
        "id": "LLbjQLLh58sj",
        "colab": {
          "base_uri": "https://localhost:8080/"
        },
        "outputId": "a1b86fab-a3b0-47b5-d2ba-e0db296e1fc9"
      },
      "outputs": [
        {
          "output_type": "execute_result",
          "data": {
            "text/plain": [
              "0.9777777777777777"
            ]
          },
          "metadata": {},
          "execution_count": 149
        }
      ],
      "source": [
        "svc = SVC()\n",
        "\n",
        "import datetime\n",
        "\n",
        "start = datetime.datetime.now()\n",
        "\n",
        "svc.fit(X_train_vector, y_train)\n",
        "\n",
        "finish = datetime.datetime.now()\n",
        "\n",
        "time_svc = finish - start\n",
        "print(time_svc)"
      ]
    },
    {
      "cell_type": "code",
      "execution_count": null,
      "metadata": {
        "id": "DZ2B-ULsG5jx"
      },
      "outputs": [],
      "source": [
        "y_pred = svc.predict(X_test_vector)\n",
        "accuracy_svc = accuracy_score(y_test, y_pred)\n",
        "accuracy_svc"
      ]
    },
    {
      "cell_type": "code",
      "execution_count": null,
      "metadata": {
        "id": "Hf14dsghIR-C",
        "colab": {
          "base_uri": "https://localhost:8080/",
          "height": 524
        },
        "outputId": "97268eed-4e40-4006-bffb-db1a3b8d6a80"
      },
      "outputs": [
        {
          "output_type": "display_data",
          "data": {
            "text/plain": [
              "<Figure size 800x550 with 1 Axes>"
            ],
            "image/png": "[encoded data removed]"
          },
          "metadata": {}
        }
      ],
      "source": [
        "visualizer = LearningCurve(\n",
        "    SVC(), scoring='accuracy', train_sizes=np.linspace(0.7, 1.0, 10)\n",
        ").fit(X_train_vector, y_train).show()"
      ]
    },
    {
      "cell_type": "markdown",
      "metadata": {
        "id": "TzFWCV0_ENT_"
      },
      "source": [
        "#Дерево решений"
      ]
    },
    {
      "cell_type": "markdown",
      "source": [
        "Этот классификатор разбивает данные на всё меньшие и меньшие подмножества на основе разных критериев, т. е. у каждого подмножества своя сортирующая категория. С каждым разделением количество объектов определённого критерия уменьшается.\n",
        "\n",
        "Классификация подойдёт к концу, когда сеть дойдёт до подмножества только с одним объектом."
      ],
      "metadata": {
        "id": "24WYIM4Yp4Da"
      }
    },
    {
      "cell_type": "code",
      "execution_count": null,
      "metadata": {
        "id": "lZ3CshWS2Iu0",
        "colab": {
          "base_uri": "https://localhost:8080/"
        },
        "outputId": "e1efa166-8d4b-4e5d-f6d3-8853bb83710a"
      },
      "outputs": [
        {
          "metadata": {
            "tags": null
          },
          "name": "stdout",
          "output_type": "stream",
          "text": [
            "Время старта: 2024-05-17 19:22:12.936881\n"
          ]
        }
      ],
      "source": [
        "from sklearn.tree import DecisionTreeClassifier\n",
        "\n",
        "decision_tree = DecisionTreeClassifier()\n",
        "\n",
        "import datetime\n",
        "\n",
        "start = datetime.datetime.now()\n",
        "\n",
        "decision_tree.fit(X_train_vector, y_train)\n",
        "\n",
        "finish = datetime.datetime.now()\n",
        "\n",
        "time_dt = finish - start"
      ]
    },
    {
      "cell_type": "markdown",
      "metadata": {
        "id": "6i1udy882gz4"
      },
      "source": [
        "Выведем метрики модели"
      ]
    },
    {
      "cell_type": "code",
      "execution_count": null,
      "metadata": {
        "colab": {
          "base_uri": "https://localhost:8080/"
        },
        "id": "8kWNfEWAGqIl",
        "outputId": "0d1da6b3-9cb1-4ce4-c240-931da36c35b1"
      },
      "outputs": [
        {
          "data": {
            "text/plain": [
              "0.9671497584541063"
            ]
          },
          "execution_count": 116,
          "metadata": {},
          "output_type": "execute_result"
        }
      ],
      "source": [
        "y_pred = decision_tree.predict(X_test_vector)\n",
        "accuracy_tree = accuracy_score(y_test, y_pred)\n",
        "accuracy_tree"
      ]
    },
    {
      "cell_type": "code",
      "execution_count": null,
      "metadata": {
        "colab": {
          "base_uri": "https://localhost:8080/"
        },
        "id": "OnePUXmQMD9h",
        "outputId": "30e17d1b-c6e0-40c1-bccc-099dfaaab744"
      },
      "outputs": [
        {
          "name": "stdout",
          "output_type": "stream",
          "text": [
            "              precision    recall  f1-score   support\n",
            "\n",
            "           0       0.97      0.99      0.98       914\n",
            "           1       0.91      0.79      0.85       121\n",
            "\n",
            "    accuracy                           0.97      1035\n",
            "   macro avg       0.94      0.89      0.92      1035\n",
            "weighted avg       0.97      0.97      0.97      1035\n",
            "\n"
          ]
        }
      ],
      "source": [
        "print(classification_report(y_test, y_pred))"
      ]
    },
    {
      "cell_type": "code",
      "execution_count": null,
      "metadata": {
        "colab": {
          "base_uri": "https://localhost:8080/",
          "height": 524
        },
        "id": "uefAsBje5FWc",
        "outputId": "0e66ea35-db16-4ecd-ac3e-99e5c0197902"
      },
      "outputs": [
        {
          "data": {
            "image/png": "[encoded data removed]",
            "text/plain": [
              "<Figure size 800x550 with 1 Axes>"
            ]
          },
          "metadata": {},
          "output_type": "display_data"
        }
      ],
      "source": [
        "visualizer = LearningCurve(\n",
        "    DecisionTreeClassifier(), scoring='accuracy', train_sizes=np.linspace(0.5, 1.0, 10)\n",
        ").fit(X_train_vector, y_train).show()"
      ]
    },
    {
      "cell_type": "markdown",
      "metadata": {
        "id": "1UgG_kNYESdx"
      },
      "source": [
        "#Случайный лес"
      ]
    },
    {
      "cell_type": "code",
      "execution_count": null,
      "metadata": {
        "colab": {
          "base_uri": "https://localhost:8080/"
        },
        "id": "z_6BHC0U58jZ",
        "outputId": "ad30b276-e039-4dc4-b8e2-417bde18084a"
      },
      "outputs": [
        {
          "data": {
            "text/plain": [
              "0.9729468599033816"
            ]
          },
          "execution_count": 125,
          "metadata": {},
          "output_type": "execute_result"
        }
      ],
      "source": [
        "from sklearn.ensemble import RandomForestClassifier\n",
        "\n",
        "random_forest = RandomForestClassifier(random_state=42)\n",
        "\n",
        "import datetime\n",
        "\n",
        "start = datetime.datetime.now()\n",
        "\n",
        "random_forest.fit(X_train_vector, y_train)\n",
        "\n",
        "finish = datetime.datetime.now()\n",
        "\n",
        "time_rf = finish - start"
      ]
    },
    {
      "cell_type": "code",
      "execution_count": null,
      "metadata": {
        "id": "N3bDkABlf3Fo"
      },
      "outputs": [],
      "source": [
        "y_pred = random_forest.predict(X_test_vector)"
      ]
    },
    {
      "cell_type": "code",
      "execution_count": null,
      "metadata": {
        "id": "o0yXooq8gLWp"
      },
      "outputs": [],
      "source": [
        "accuracy_rf = accuracy_score(y_test, y_pred)\n",
        "accuracy_rf"
      ]
    },
    {
      "cell_type": "code",
      "execution_count": null,
      "metadata": {
        "colab": {
          "base_uri": "https://localhost:8080/"
        },
        "id": "_GXer5ZMMMza",
        "outputId": "db88ff39-5d7b-4f24-9f95-740c4ed1c35c"
      },
      "outputs": [
        {
          "name": "stdout",
          "output_type": "stream",
          "text": [
            "              precision    recall  f1-score   support\n",
            "\n",
            "           0       0.97      1.00      0.98       914\n",
            "           1       0.99      0.78      0.87       121\n",
            "\n",
            "    accuracy                           0.97      1035\n",
            "   macro avg       0.98      0.89      0.93      1035\n",
            "weighted avg       0.97      0.97      0.97      1035\n",
            "\n"
          ]
        }
      ],
      "source": [
        "print(classification_report(y_test, y_pred))"
      ]
    },
    {
      "cell_type": "code",
      "execution_count": null,
      "metadata": {
        "colab": {
          "base_uri": "https://localhost:8080/"
        },
        "id": "IVeD5oGA58gS",
        "outputId": "37d217ed-105e-415c-a7f5-f0959d34fe77"
      },
      "outputs": [
        {
          "data": {
            "image/png": "[encoded data removed]",
            "text/plain": [
              "<Figure size 800x550 with 1 Axes>"
            ]
          },
          "metadata": {},
          "output_type": "display_data"
        }
      ],
      "source": [
        "visualizer = LearningCurve(\n",
        "    RandomForestClassifier(), scoring='accuracy', train_sizes=np.linspace(0.7, 1.0, 10)\n",
        ").fit(X_train, y_train).show()"
      ]
    },
    {
      "cell_type": "markdown",
      "metadata": {
        "id": "1KFOTT533JJ_"
      },
      "source": [
        "# **Pipeline**"
      ]
    },
    {
      "cell_type": "code",
      "execution_count": null,
      "metadata": {
        "id": "RFVXTzHG3JJ_"
      },
      "outputs": [],
      "source": [
        "from sklearn.pipeline import Pipeline\n",
        "from sklearn.feature_extraction.text import CountVectorizer, TfidfTransformer\n",
        "from sklearn.naive_bayes import MultinomialNB\n",
        "from sklearn.svm import SVC"
      ]
    },
    {
      "cell_type": "markdown",
      "metadata": {
        "id": "wj2M4_1tN5Cv"
      },
      "source": [
        "Pipeli neпозволяет последовательно применять список преобразователей для предварительной обработки данных и, при желании, завершать последовательность финальным предиктором для прогнозного моделирования.\n",
        "\n",
        "Пайплайн собирает все инструменты в один конвейер без повторяющегося кода. Достаточно обучить этот конвейер на обучающей выборке и использовать его для всех нужных преобразований одной командой. Он принимает на вход признаки, преобразует их и выдаёт результат."
      ]
    },
    {
      "cell_type": "code",
      "execution_count": null,
      "metadata": {
        "id": "RuUf3LHQiK2q"
      },
      "outputs": [],
      "source": [
        "pipeline = Pipeline([\n",
        "    ('count_vectorizer', CountVectorizer()),\n",
        "    ('tfidf_transformer', TfidfTransformer()),\n",
        "    ('naive_bayes', MultinomialNB())])"
      ]
    },
    {
      "cell_type": "code",
      "execution_count": null,
      "metadata": {
        "colab": {
          "base_uri": "https://localhost:8080/"
        },
        "id": "rDOsHoCAf3vs",
        "outputId": "16da300b-5864-4c7e-971f-f98920f99057"
      },
      "outputs": [
        {
          "name": "stdout",
          "output_type": "stream",
          "text": [
            "Время старта: 2024-05-12 20:40:14.889749\n",
            "Время окончания: 2024-05-12 20:42:23.093836\n",
            "Время работы: 0:02:08.204087\n"
          ]
        }
      ],
      "source": [
        "# начальное время\n",
        "start = datetime.datetime.now()\n",
        "print('Время старта: ' + str(start))\n",
        "\n",
        "pipeline.fit(X_train, y_train)\n",
        "\n",
        "#фиксируем и выводим время окончания работы кода\n",
        "finish = datetime.datetime.now()\n",
        "print('Время окончания: ' + str(finish))\n",
        "\n",
        "# вычитаем время старта из времени окончания\n",
        "print('Время работы: ' + str(finish - start))\n"
      ]
    },
    {
      "cell_type": "code",
      "execution_count": null,
      "metadata": {
        "id": "JPAOKqHM3JJ_"
      },
      "outputs": [],
      "source": [
        "y_pred= pipeline.predict(X_test)"
      ]
    },
    {
      "cell_type": "code",
      "execution_count": null,
      "metadata": {
        "colab": {
          "base_uri": "https://localhost:8080/"
        },
        "id": "7cFHx1MTcjwb",
        "outputId": "401fe498-a6e5-4c88-f562-6566e4296bbe"
      },
      "outputs": [
        {
          "data": {
            "text/plain": [
              "array([0., 0., 0., ..., 0., 0., 1.])"
            ]
          },
          "execution_count": 29,
          "metadata": {},
          "output_type": "execute_result"
        }
      ],
      "source": [
        "y_pred"
      ]
    },
    {
      "cell_type": "code",
      "execution_count": null,
      "metadata": {
        "colab": {
          "base_uri": "https://localhost:8080/"
        },
        "id": "XbPF8o_D3JKE",
        "outputId": "00edacd7-b21a-424b-cedf-48c19b339529"
      },
      "outputs": [
        {
          "name": "stdout",
          "output_type": "stream",
          "text": [
            "              precision    recall  f1-score   support\n",
            "\n",
            "         0.0       0.93      0.99      0.96     91597\n",
            "         1.0       0.99      0.87      0.93     54574\n",
            "\n",
            "    accuracy                           0.95    146171\n",
            "   macro avg       0.96      0.93      0.94    146171\n",
            "weighted avg       0.95      0.95      0.95    146171\n",
            "\n"
          ]
        }
      ],
      "source": [
        "from sklearn.metrics import accuracy_score, precision_score, recall_score, f1_score, confusion_matrix, classification_report\n",
        "print(classification_report(y_test,y_pred))"
      ]
    },
    {
      "cell_type": "code",
      "execution_count": null,
      "metadata": {
        "id": "G9RX76PnYv8K"
      },
      "outputs": [],
      "source": [
        "y_test_pred = pipeline.predict(X_test)\n",
        "y_train_pred = pipeline.predict(X_train)"
      ]
    },
    {
      "cell_type": "markdown",
      "metadata": {
        "id": "c3QvQL8qat33"
      },
      "source": [
        "для лучшей наглядности сравним показания метрик по обучающей и тестовой выборке\n"
      ]
    },
    {
      "cell_type": "code",
      "execution_count": null,
      "metadata": {
        "colab": {
          "base_uri": "https://localhost:8080/",
          "height": 174
        },
        "id": "DI_iy4A3X09h",
        "outputId": "3c22f819-8c2a-494c-c4e9-07dae9de5f93"
      },
      "outputs": [
        {
          "data": {
            "application/vnd.google.colaboratory.intrinsic+json": {
              "summary": "{\n  \"name\": \"metrics\",\n  \"rows\": 4,\n  \"fields\": [\n    {\n      \"column\": \"Train\",\n      \"properties\": {\n        \"dtype\": \"number\",\n        \"std\": 0.044543316819940636,\n        \"min\": 0.8816527935426914,\n        \"max\": 0.9884234711912336,\n        \"num_unique_values\": 4,\n        \"samples\": [\n          0.9884234711912336,\n          0.9319901343199013,\n          0.9521380151525813\n        ],\n        \"semantic_type\": \"\",\n        \"description\": \"\"\n      }\n    },\n    {\n      \"column\": \"Test\",\n      \"properties\": {\n        \"dtype\": \"number\",\n        \"std\": 0.04862388916804716,\n        \"min\": 0.871532231465533,\n        \"max\": 0.9881372834171271,\n        \"num_unique_values\": 4,\n        \"samples\": [\n          0.9881372834171271,\n          0.9261790707637184,\n          0.9481292458832463\n        ],\n        \"semantic_type\": \"\",\n        \"description\": \"\"\n      }\n    }\n  ]\n}",
              "type": "dataframe",
              "variable_name": "metrics"
            },
            "text/html": [
              "\n",
              "  <div id=\"df-0de1759f-59c9-4fe1-940d-ac7b468e77e8\" class=\"colab-df-container\">\n",
              "    <div>\n",
              "<style scoped>\n",
              "    .dataframe tbody tr th:only-of-type {\n",
              "        vertical-align: middle;\n",
              "    }\n",
              "\n",
              "    .dataframe tbody tr th {\n",
              "        vertical-align: top;\n",
              "    }\n",
              "\n",
              "    .dataframe thead th {\n",
              "        text-align: right;\n",
              "    }\n",
              "</style>\n",
              "<table border=\"1\" class=\"dataframe\">\n",
              "  <thead>\n",
              "    <tr style=\"text-align: right;\">\n",
              "      <th></th>\n",
              "      <th>Train</th>\n",
              "      <th>Test</th>\n",
              "    </tr>\n",
              "  </thead>\n",
              "  <tbody>\n",
              "    <tr>\n",
              "      <th>Accuracy</th>\n",
              "      <td>0.952138</td>\n",
              "      <td>0.948129</td>\n",
              "    </tr>\n",
              "    <tr>\n",
              "      <th>Precision</th>\n",
              "      <td>0.988423</td>\n",
              "      <td>0.988137</td>\n",
              "    </tr>\n",
              "    <tr>\n",
              "      <th>Recall</th>\n",
              "      <td>0.881653</td>\n",
              "      <td>0.871532</td>\n",
              "    </tr>\n",
              "    <tr>\n",
              "      <th>F1</th>\n",
              "      <td>0.931990</td>\n",
              "      <td>0.926179</td>\n",
              "    </tr>\n",
              "  </tbody>\n",
              "</table>\n",
              "</div>\n",
              "    <div class=\"colab-df-buttons\">\n",
              "\n",
              "  <div class=\"colab-df-container\">\n",
              "    <button class=\"colab-df-convert\" onclick=\"convertToInteractive('df-0de1759f-59c9-4fe1-940d-ac7b468e77e8')\"\n",
              "            title=\"Convert this dataframe to an interactive table.\"\n",
              "            style=\"display:none;\">\n",
              "\n",
              "  <svg xmlns=\"http://www.w3.org/2000/svg\" height=\"24px\" viewBox=\"0 -960 960 960\">\n",
              "    <path d=\"M120-120v-720h720v720H120Zm60-500h600v-160H180v160Zm220 220h160v-160H400v160Zm0 220h160v-160H400v160ZM180-400h160v-160H180v160Zm440 0h160v-160H620v160ZM180-180h160v-160H180v160Zm440 0h160v-160H620v160Z\"/>\n",
              "  </svg>\n",
              "    </button>\n",
              "\n",
              "  <style>\n",
              "    .colab-df-container {\n",
              "      display:flex;\n",
              "      gap: 12px;\n",
              "    }\n",
              "\n",
              "    .colab-df-convert {\n",
              "      background-color: #E8F0FE;\n",
              "      border: none;\n",
              "      border-radius: 50%;\n",
              "      cursor: pointer;\n",
              "      display: none;\n",
              "      fill: #1967D2;\n",
              "      height: 32px;\n",
              "      padding: 0 0 0 0;\n",
              "      width: 32px;\n",
              "    }\n",
              "\n",
              "    .colab-df-convert:hover {\n",
              "      background-color: #E2EBFA;\n",
              "      box-shadow: 0px 1px 2px rgba(60, 64, 67, 0.3), 0px 1px 3px 1px rgba(60, 64, 67, 0.15);\n",
              "      fill: #174EA6;\n",
              "    }\n",
              "\n",
              "    .colab-df-buttons div {\n",
              "      margin-bottom: 4px;\n",
              "    }\n",
              "\n",
              "    [theme=dark] .colab-df-convert {\n",
              "      background-color: #3B4455;\n",
              "      fill: #D2E3FC;\n",
              "    }\n",
              "\n",
              "    [theme=dark] .colab-df-convert:hover {\n",
              "      background-color: #434B5C;\n",
              "      box-shadow: 0px 1px 3px 1px rgba(0, 0, 0, 0.15);\n",
              "      filter: drop-shadow(0px 1px 2px rgba(0, 0, 0, 0.3));\n",
              "      fill: #FFFFFF;\n",
              "    }\n",
              "  </style>\n",
              "\n",
              "    <script>\n",
              "      const buttonEl =\n",
              "        document.querySelector('#df-0de1759f-59c9-4fe1-940d-ac7b468e77e8 button.colab-df-convert');\n",
              "      buttonEl.style.display =\n",
              "        google.colab.kernel.accessAllowed ? 'block' : 'none';\n",
              "\n",
              "      async function convertToInteractive(key) {\n",
              "        const element = document.querySelector('#df-0de1759f-59c9-4fe1-940d-ac7b468e77e8');\n",
              "        const dataTable =\n",
              "          await google.colab.kernel.invokeFunction('convertToInteractive',\n",
              "                                                    [key], {});\n",
              "        if (!dataTable) return;\n",
              "\n",
              "        const docLinkHtml = 'Like what you see? Visit the ' +\n",
              "          '<a target=\"_blank\" href=https://colab.research.google.com/notebooks/data_table.ipynb>data table notebook</a>'\n",
              "          + ' to learn more about interactive tables.';\n",
              "        element.innerHTML = '';\n",
              "        dataTable['output_type'] = 'display_data';\n",
              "        await google.colab.output.renderOutput(dataTable, element);\n",
              "        const docLink = document.createElement('div');\n",
              "        docLink.innerHTML = docLinkHtml;\n",
              "        element.appendChild(docLink);\n",
              "      }\n",
              "    </script>\n",
              "  </div>\n",
              "\n",
              "\n",
              "<div id=\"df-207e29a7-6de6-48dc-a2a4-cde3a1aaec84\">\n",
              "  <button class=\"colab-df-quickchart\" onclick=\"quickchart('df-207e29a7-6de6-48dc-a2a4-cde3a1aaec84')\"\n",
              "            title=\"Suggest charts\"\n",
              "            style=\"display:none;\">\n",
              "\n",
              "<svg xmlns=\"http://www.w3.org/2000/svg\" height=\"24px\"viewBox=\"0 0 24 24\"\n",
              "     width=\"24px\">\n",
              "    <g>\n",
              "        <path d=\"M19 3H5c-1.1 0-2 .9-2 2v14c0 1.1.9 2 2 2h14c1.1 0 2-.9 2-2V5c0-1.1-.9-2-2-2zM9 17H7v-7h2v7zm4 0h-2V7h2v10zm4 0h-2v-4h2v4z\"/>\n",
              "    </g>\n",
              "</svg>\n",
              "  </button>\n",
              "\n",
              "<style>\n",
              "  .colab-df-quickchart {\n",
              "      --bg-color: #E8F0FE;\n",
              "      --fill-color: #1967D2;\n",
              "      --hover-bg-color: #E2EBFA;\n",
              "      --hover-fill-color: #174EA6;\n",
              "      --disabled-fill-color: #AAA;\n",
              "      --disabled-bg-color: #DDD;\n",
              "  }\n",
              "\n",
              "  [theme=dark] .colab-df-quickchart {\n",
              "      --bg-color: #3B4455;\n",
              "      --fill-color: #D2E3FC;\n",
              "      --hover-bg-color: #434B5C;\n",
              "      --hover-fill-color: #FFFFFF;\n",
              "      --disabled-bg-color: #3B4455;\n",
              "      --disabled-fill-color: #666;\n",
              "  }\n",
              "\n",
              "  .colab-df-quickchart {\n",
              "    background-color: var(--bg-color);\n",
              "    border: none;\n",
              "    border-radius: 50%;\n",
              "    cursor: pointer;\n",
              "    display: none;\n",
              "    fill: var(--fill-color);\n",
              "    height: 32px;\n",
              "    padding: 0;\n",
              "    width: 32px;\n",
              "  }\n",
              "\n",
              "  .colab-df-quickchart:hover {\n",
              "    background-color: var(--hover-bg-color);\n",
              "    box-shadow: 0 1px 2px rgba(60, 64, 67, 0.3), 0 1px 3px 1px rgba(60, 64, 67, 0.15);\n",
              "    fill: var(--button-hover-fill-color);\n",
              "  }\n",
              "\n",
              "  .colab-df-quickchart-complete:disabled,\n",
              "  .colab-df-quickchart-complete:disabled:hover {\n",
              "    background-color: var(--disabled-bg-color);\n",
              "    fill: var(--disabled-fill-color);\n",
              "    box-shadow: none;\n",
              "  }\n",
              "\n",
              "  .colab-df-spinner {\n",
              "    border: 2px solid var(--fill-color);\n",
              "    border-color: transparent;\n",
              "    border-bottom-color: var(--fill-color);\n",
              "    animation:\n",
              "      spin 1s steps(1) infinite;\n",
              "  }\n",
              "\n",
              "  @keyframes spin {\n",
              "    0% {\n",
              "      border-color: transparent;\n",
              "      border-bottom-color: var(--fill-color);\n",
              "      border-left-color: var(--fill-color);\n",
              "    }\n",
              "    20% {\n",
              "      border-color: transparent;\n",
              "      border-left-color: var(--fill-color);\n",
              "      border-top-color: var(--fill-color);\n",
              "    }\n",
              "    30% {\n",
              "      border-color: transparent;\n",
              "      border-left-color: var(--fill-color);\n",
              "      border-top-color: var(--fill-color);\n",
              "      border-right-color: var(--fill-color);\n",
              "    }\n",
              "    40% {\n",
              "      border-color: transparent;\n",
              "      border-right-color: var(--fill-color);\n",
              "      border-top-color: var(--fill-color);\n",
              "    }\n",
              "    60% {\n",
              "      border-color: transparent;\n",
              "      border-right-color: var(--fill-color);\n",
              "    }\n",
              "    80% {\n",
              "      border-color: transparent;\n",
              "      border-right-color: var(--fill-color);\n",
              "      border-bottom-color: var(--fill-color);\n",
              "    }\n",
              "    90% {\n",
              "      border-color: transparent;\n",
              "      border-bottom-color: var(--fill-color);\n",
              "    }\n",
              "  }\n",
              "</style>\n",
              "\n",
              "  <script>\n",
              "    async function quickchart(key) {\n",
              "      const quickchartButtonEl =\n",
              "        document.querySelector('#' + key + ' button');\n",
              "      quickchartButtonEl.disabled = true;  // To prevent multiple clicks.\n",
              "      quickchartButtonEl.classList.add('colab-df-spinner');\n",
              "      try {\n",
              "        const charts = await google.colab.kernel.invokeFunction(\n",
              "            'suggestCharts', [key], {});\n",
              "      } catch (error) {\n",
              "        console.error('Error during call to suggestCharts:', error);\n",
              "      }\n",
              "      quickchartButtonEl.classList.remove('colab-df-spinner');\n",
              "      quickchartButtonEl.classList.add('colab-df-quickchart-complete');\n",
              "    }\n",
              "    (() => {\n",
              "      let quickchartButtonEl =\n",
              "        document.querySelector('#df-207e29a7-6de6-48dc-a2a4-cde3a1aaec84 button');\n",
              "      quickchartButtonEl.style.display =\n",
              "        google.colab.kernel.accessAllowed ? 'block' : 'none';\n",
              "    })();\n",
              "  </script>\n",
              "</div>\n",
              "    </div>\n",
              "  </div>\n"
            ],
            "text/plain": [
              "              Train      Test\n",
              "Accuracy   0.952138  0.948129\n",
              "Precision  0.988423  0.988137\n",
              "Recall     0.881653  0.871532\n",
              "F1         0.931990  0.926179"
            ]
          },
          "execution_count": 51,
          "metadata": {},
          "output_type": "execute_result"
        }
      ],
      "source": [
        "metrics = pd.DataFrame({\n",
        "    \"Train\": [\n",
        "        accuracy_score(y_train, y_train_pred),\n",
        "        precision_score(y_train, y_train_pred),\n",
        "        recall_score(y_train, y_train_pred),\n",
        "        f1_score(y_train, y_train_pred),\n",
        "    ],\n",
        "    \"Test\": [\n",
        "        accuracy_score(y_test, y_test_pred),\n",
        "        precision_score(y_test, y_test_pred),\n",
        "        recall_score(y_test, y_test_pred),\n",
        "        f1_score(y_test, y_test_pred),\n",
        "    ],\n",
        "}, index = [\"Accuracy\", \"Precision\", \"Recall\", \"F1\"])\n",
        "\n",
        "metrics"
      ]
    },
    {
      "cell_type": "markdown",
      "metadata": {
        "id": "5RJfmsGT3JJ_"
      },
      "source": [
        "# **Вывод результатов**"
      ]
    },
    {
      "cell_type": "markdown",
      "source": [
        "Поскольку мы имеем дело с несбалансированными классами, в нашем случае важно больше сравнивать метрики Precision и Recall, при этом учитывая Accuracy"
      ],
      "metadata": {
        "id": "y3sx8FuNVt5c"
      }
    },
    {
      "cell_type": "markdown",
      "source": [
        "Выбирая наилучшую модель, мы сравниваем две модели с более хорошими метриками - pipline, логистической регрессии, дерево решений, метод k-ближайших соседей. у Логистической регрессии лучше метрика Recall, что показывает, что модель более полно обнаруживает сгенерированный текст. Это важно для минимизации пропуска сгенерированного текста и обеспечения высокой степени его обнаружения. У остальных моделей высокая метрика Precision, что показывает, что модель более точно определяет сгенерированный текст. Это важно для предотвращения ложных срабатываний и ошибочного определения \"человеческого\" текста от сгенерированного. Для нашей задачи более значимо избежать ложных выводов, исходя из этого наилучшая модель, у которой более высокая accuracy и precision и неплохие другие метрики, - pipline."
      ],
      "metadata": {
        "id": "fABLtV7HYA99"
      }
    },
    {
      "cell_type": "markdown",
      "source": [
        "В данной задаче распознования текста была проведена успешная работа, направленная на разделение сообщений на два класса: сгенерированных ии и нет. Результаты этой задачи имеют важное значение для различных антиплагиат програм распознающих такой текст. В ходе исследования были использованы следующие алгоритмы машинного обучения: Naive Bayes, Logistic Regresion, KNeighboors, Support Vector Machine, DecisionTreeClassifier, RandomForest, Pipline.\n",
        "\n",
        "Для каждого алгоритма было оценено качество модели с помощью метрик accuracy, precision, recall, F1-score. Было выявлено, что алгоритм Pipline показывает наилучшее качество, а K-Nearest Neighbors - наихудшее качество для данной задачи распознования текста. Таким образом, результаты исследования показали, что машинное обучение может быть эффективно использовано для таких типов задач, в частности, для распознования сгенерированного текста. При этом выбор алгоритма машинного обучения имеет большое значение для достижения высокого качества предсказания."
      ],
      "metadata": {
        "id": "JO3vDX1Tw6wq"
      }
    }
  ],
  "metadata": {
    "colab": {
      "provenance": [],
      "toc_visible": true,
      "gpuType": "T4"
    },
    "kaggle": {
      "accelerator": "none",
      "dataSources": [
        {
          "datasetId": 4288635,
          "sourceId": 7379779,
          "sourceType": "datasetVersion"
        }
      ],
      "dockerImageVersionId": 30646,
      "isGpuEnabled": false,
      "isInternetEnabled": false,
      "language": "python",
      "sourceType": "notebook"
    },
    "kernelspec": {
      "display_name": "Python 3",
      "name": "python3"
    },
    "language_info": {
      "codemirror_mode": {
        "name": "ipython",
        "version": 3
      },
      "file_extension": ".py",
      "mimetype": "text/x-python",
      "name": "python",
      "nbconvert_exporter": "python",
      "pygments_lexer": "ipython3",
      "version": "3.10.13"
    },
    "accelerator": "GPU"
  },
  "nbformat": 4,
  "nbformat_minor": 0
}